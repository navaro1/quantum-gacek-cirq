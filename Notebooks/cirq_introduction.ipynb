{
 "cells": [
  {
   "cell_type": "markdown",
   "source": [
    "# Cirq fundamentals introduction - Google's Quantum Computing Library\n",
    "\n",
    "In this notebook we will cover fundamentals of [Cirq](https://quantumai.google/cirq/). This is an introductionary notebook, our goal is to get high-level understanding of Cirq's elements. It should you get up to speed for having fun in realm of quantum computing. We will divide this into five chapters - Qubits, Gates and Operations, Circuits and Moments, Simulation and Visualization."
   ],
   "metadata": {
    "collapsed": false
   }
  },
  {
   "cell_type": "markdown",
   "source": [
    "## Part 1: Qubits\n",
    "\n",
    "As you might know most basic element in quantum computing is qubit - basic unit of quantum information. There are three ways to create qubits, depending on how they interact with each other.\n",
    "First we have `cirq.NamedQubit` - those are labeled by a name. We can create single qubit with a specific name or any number of them with specific prefix!"
   ],
   "metadata": {
    "collapsed": false
   }
  },
  {
   "cell_type": "code",
   "execution_count": 15,
   "outputs": [
    {
     "name": "stdout",
     "output_type": "stream",
     "text": [
      "Named Qubit!\n",
      "[cirq.NamedQubit('prefix-0'), cirq.NamedQubit('prefix-1'), cirq.NamedQubit('prefix-2'), cirq.NamedQubit('prefix-3'), cirq.NamedQubit('prefix-4'), cirq.NamedQubit('prefix-5'), cirq.NamedQubit('prefix-6'), cirq.NamedQubit('prefix-7'), cirq.NamedQubit('prefix-8'), cirq.NamedQubit('prefix-9')]\n"
     ]
    }
   ],
   "source": [
    "import cirq\n",
    "import numpy as np\n",
    "nq1 = cirq.NamedQubit(\"Named Qubit!\")\n",
    "nqs = cirq.NamedQubit.range(10, prefix=\"prefix-\")\n",
    "print(nq1)\n",
    "print(nqs)"
   ],
   "metadata": {
    "collapsed": false,
    "ExecuteTime": {
     "end_time": "2023-06-15T03:11:55.632994978Z",
     "start_time": "2023-06-15T03:11:55.631282096Z"
    }
   }
  },
  {
   "cell_type": "markdown",
   "source": [
    "Then we have `cirq.LineQubit` - which are labeled by a number in a linear array. This way we can talk about qubits that are adjacent to each other. We can add or subtract from this qubit to get qubit \"right\" or \"left\" from original one."
   ],
   "metadata": {
    "collapsed": false
   }
  },
  {
   "cell_type": "code",
   "execution_count": 2,
   "outputs": [
    {
     "name": "stdout",
     "output_type": "stream",
     "text": [
      "q(7)\n",
      "[cirq.LineQubit(0), cirq.LineQubit(1), cirq.LineQubit(2)]\n",
      "Is lq0 neighbour of lq1? True\n",
      "Is lq0 neighbour of lq2? False\n",
      "Neighbours of lq1 {cirq.LineQubit(0), cirq.LineQubit(2)}\n",
      "Neighbours of lq2 {cirq.LineQubit(1), cirq.LineQubit(3)}\n",
      "Neighbours of lq2 that were actually declared {cirq.LineQubit(1)}\n",
      "Qubit three positions 'right' of lq2 is q(5)\n"
     ]
    }
   ],
   "source": [
    "lq = cirq.LineQubit(7)\n",
    "lqs = cirq.LineQubit.range(3)\n",
    "lq0, lq1, lq2 = lqs\n",
    "print(lq)\n",
    "print(lqs)\n",
    "print(\"Is lq0 neighbour of lq1?\", lq0.is_adjacent(lq1))\n",
    "print(\"Is lq0 neighbour of lq2?\", lq0.is_adjacent(lq2))\n",
    "print(\"Neighbours of lq1\", lq1.neighbors())\n",
    "print(\"Neighbours of lq2\", lq2.neighbors())\n",
    "print(\"Neighbours of lq2 that were actually declared\", lq2.neighbors(qids = lqs))\n",
    "print(\"Qubit three positions 'right' of lq2 is\", lq2 + 3)"
   ],
   "metadata": {
    "collapsed": false,
    "ExecuteTime": {
     "end_time": "2023-06-15T02:52:09.095895738Z",
     "start_time": "2023-06-15T02:52:09.094245780Z"
    }
   }
  },
  {
   "cell_type": "markdown",
   "source": [
    "Last but not least is `cirq.GridQubit` which is labeled by a point in two dimensions. Of course then the concept of adjacency is extended to 2 dimensions. There are also few convenience methods for creating specific shapes."
   ],
   "metadata": {
    "collapsed": false
   }
  },
  {
   "cell_type": "code",
   "execution_count": 3,
   "outputs": [
    {
     "name": "stdout",
     "output_type": "stream",
     "text": [
      "q(1, 2)\n",
      "Qubits in a square [cirq.GridQubit(0, 0), cirq.GridQubit(0, 1), cirq.GridQubit(0, 2), cirq.GridQubit(1, 0), cirq.GridQubit(1, 1), cirq.GridQubit(1, 2), cirq.GridQubit(2, 0), cirq.GridQubit(2, 1), cirq.GridQubit(2, 2)]\n",
      "Qubits in a rectangle [cirq.GridQubit(0, 0), cirq.GridQubit(0, 1), cirq.GridQubit(0, 2), cirq.GridQubit(1, 0), cirq.GridQubit(1, 1), cirq.GridQubit(1, 2)]\n",
      "{cirq.GridQubit(2, 1), cirq.GridQubit(1, 2), cirq.GridQubit(0, 1), cirq.GridQubit(1, 0)}\n",
      "In rectangular grid, is (0, 2) adjacent to (1, 0) - False\n"
     ]
    }
   ],
   "source": [
    "gq1_2 = cirq.GridQubit(1, 2)\n",
    "square_gqs = cirq.GridQubit.square(3)\n",
    "rect_qgs = cirq.GridQubit.rect(2, 3)\n",
    "\n",
    "print(gq1_2)\n",
    "print(\"Qubits in a square\", square_gqs)\n",
    "print(\"Qubits in a rectangle\", rect_qgs)\n",
    "\n",
    "sq1_1 = square_gqs[4]\n",
    "print(sq1_1.neighbors(qids = square_gqs))\n",
    "rq0_2 = square_gqs[2]\n",
    "rq1_0 = square_gqs[3]\n",
    "print(\"In rectangular grid, is (0, 2) adjacent to (1, 0) -\", rq0_2.is_adjacent(rq1_0))"
   ],
   "metadata": {
    "collapsed": false,
    "ExecuteTime": {
     "end_time": "2023-06-15T02:52:09.107240629Z",
     "start_time": "2023-06-15T02:52:09.096981004Z"
    }
   }
  },
  {
   "cell_type": "markdown",
   "source": [
    "## Part 2: Gates and Operations"
   ],
   "metadata": {
    "collapsed": false
   }
  },
  {
   "cell_type": "markdown",
   "source": [
    "Now it is time for Gates and Operations! Qubits on their own are very interesting, but (conceptually) they are not very dynamic. They are what they are. So let's try to manipulate them using `Gate` and `Operation`. Taking it straight from the [documentation](https://quantumai.google/cirq/start/basics#gates_and_operations)\n",
    "\n",
    "> - A Gate is an effect that can be applied to a set of qubits.\n",
    ">  - An Operation is a gate applied to a set of qubits.\n",
    "\n",
    "In very crude terms you can think about a `Gate` as a \"function\" and `Operation` as a result of applying `Gate` to qubit or qubits - with the caveat that `Operation` will actually be evaluated during simulation. There are tons of gates already available, and you can even create your own!"
   ],
   "metadata": {
    "collapsed": false
   }
  },
  {
   "cell_type": "code",
   "execution_count": 21,
   "outputs": [
    {
     "name": "stdout",
     "output_type": "stream",
     "text": [
      "X gate - X\n",
      "X operation - X(q(0))\n",
      "Square root of X operation - X**0.5(q(2))\n",
      "CNOT gate CNOT\n",
      "CNOT operation CNOT(q(1), q(2))\n",
      "[[1.+0.j 0.+0.j]\n",
      " [0.+0.j 1.+0.j]]\n"
     ]
    }
   ],
   "source": [
    "q0, q1, q2 = cirq.LineQubit.range(3)\n",
    "\n",
    "x_gate = cirq.X\n",
    "print(\"X gate -\", x_gate)\n",
    "print(\"X operation -\", x_gate(q0))\n",
    "\n",
    "sqrt_x = cirq.X ** 0.5\n",
    "print(\"Square root of X operation -\", sqrt_x(q2))\n",
    "cnot_gate = cirq.CNOT\n",
    "cnot_operation = cnot_gate(q1, q2)\n",
    "print(\"CNOT gate\", cnot_gate)\n",
    "print(\"CNOT operation\", cnot_operation)\n",
    "\n",
    "# Your own gate from a unitary matrix!\n",
    "unitary_matrix = np.matrix([[1j, 0], [0, 1j]])\n",
    "print(unitary_matrix.H * unitary_matrix)\n"
   ],
   "metadata": {
    "collapsed": false,
    "ExecuteTime": {
     "end_time": "2023-06-15T03:14:49.632949615Z",
     "start_time": "2023-06-15T03:14:49.630839888Z"
    }
   }
  },
  {
   "cell_type": "markdown",
   "source": [
    "## Part 3: Circuits and Moments"
   ],
   "metadata": {
    "collapsed": false
   }
  },
  {
   "cell_type": "markdown",
   "source": [
    "## Part 4: Simulation"
   ],
   "metadata": {
    "collapsed": false
   }
  },
  {
   "cell_type": "markdown",
   "source": [
    "## Part 5: Visualizing results"
   ],
   "metadata": {
    "collapsed": false
   }
  },
  {
   "cell_type": "code",
   "execution_count": 3,
   "outputs": [],
   "source": [],
   "metadata": {
    "collapsed": false,
    "ExecuteTime": {
     "end_time": "2023-06-15T02:52:09.109286086Z",
     "start_time": "2023-06-15T02:52:09.107844923Z"
    }
   }
  }
 ],
 "metadata": {
  "kernelspec": {
   "display_name": "Python 3",
   "language": "python",
   "name": "python3"
  },
  "language_info": {
   "codemirror_mode": {
    "name": "ipython",
    "version": 2
   },
   "file_extension": ".py",
   "mimetype": "text/x-python",
   "name": "python",
   "nbconvert_exporter": "python",
   "pygments_lexer": "ipython2",
   "version": "2.7.6"
  }
 },
 "nbformat": 4,
 "nbformat_minor": 0
}
