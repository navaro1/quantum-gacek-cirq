{
 "cells": [
  {
   "cell_type": "markdown",
   "source": [
    "# Cirq fundamentals introduction - Google's Quantum Computing Library\n",
    "\n",
    "In this notebook we will cover fundamentals of [Cirq](https://quantumai.google/cirq/). This is an introductionary notebook, our goal is to get high-level understanding of Cirq's elements. It should you get up to speed for having fun in realm of quantum computing. We will divide this into five chapters - Qubits, Gates and Operations, Circuits and Moments, Simulation and Visualization."
   ],
   "metadata": {
    "collapsed": false
   }
  },
  {
   "cell_type": "markdown",
   "source": [
    "## Part 1: Qubits\n",
    "\n",
    "As you might know, the most basic element in quantum computing is the qubit - a basic unit of quantum information. There are three ways to create qubits, depending on how they interact with each other.\n",
    "First, we have `cirq.NamedQubit` - those are labeled by a name. We can create a single qubit with a specific name or any number of them with a specific prefix!"
   ],
   "metadata": {
    "collapsed": false
   }
  },
  {
   "cell_type": "code",
   "execution_count": 15,
   "outputs": [
    {
     "name": "stdout",
     "output_type": "stream",
     "text": [
      "Named Qubit!\n",
      "[cirq.NamedQubit('prefix-0'), cirq.NamedQubit('prefix-1'), cirq.NamedQubit('prefix-2'), cirq.NamedQubit('prefix-3'), cirq.NamedQubit('prefix-4'), cirq.NamedQubit('prefix-5'), cirq.NamedQubit('prefix-6'), cirq.NamedQubit('prefix-7'), cirq.NamedQubit('prefix-8'), cirq.NamedQubit('prefix-9')]\n"
     ]
    }
   ],
   "source": [
    "import cirq\n",
    "import numpy as np\n",
    "nq1 = cirq.NamedQubit(\"Named Qubit!\")\n",
    "nqs = cirq.NamedQubit.range(10, prefix=\"prefix-\")\n",
    "print(nq1)\n",
    "print(nqs)"
   ],
   "metadata": {
    "collapsed": false,
    "ExecuteTime": {
     "end_time": "2023-06-15T03:11:55.632994978Z",
     "start_time": "2023-06-15T03:11:55.631282096Z"
    }
   }
  },
  {
   "cell_type": "markdown",
   "source": [
    "Then we have `cirq.LineQubit` - which are labeled by a number in a linear array. This way we can talk about qubits that are adjacent to each other. We can add or subtract from this qubit to get a qubit \"right\" or \"left\" from the original one."
   ],
   "metadata": {
    "collapsed": false
   }
  },
  {
   "cell_type": "code",
   "execution_count": 2,
   "outputs": [
    {
     "name": "stdout",
     "output_type": "stream",
     "text": [
      "q(7)\n",
      "[cirq.LineQubit(0), cirq.LineQubit(1), cirq.LineQubit(2)]\n",
      "Is lq0 neighbour of lq1? True\n",
      "Is lq0 neighbour of lq2? False\n",
      "Neighbours of lq1 {cirq.LineQubit(0), cirq.LineQubit(2)}\n",
      "Neighbours of lq2 {cirq.LineQubit(1), cirq.LineQubit(3)}\n",
      "Neighbours of lq2 that were actually declared {cirq.LineQubit(1)}\n",
      "Qubit three positions 'right' of lq2 is q(5)\n"
     ]
    }
   ],
   "source": [
    "lq = cirq.LineQubit(7)\n",
    "lqs = cirq.LineQubit.range(3)\n",
    "lq0, lq1, lq2 = lqs\n",
    "print(lq)\n",
    "print(lqs)\n",
    "print(\"Is lq0 neighbour of lq1?\", lq0.is_adjacent(lq1))\n",
    "print(\"Is lq0 neighbour of lq2?\", lq0.is_adjacent(lq2))\n",
    "print(\"Neighbours of lq1\", lq1.neighbors())\n",
    "print(\"Neighbours of lq2\", lq2.neighbors())\n",
    "print(\"Neighbours of lq2 that were actually declared\", lq2.neighbors(qids = lqs))\n",
    "print(\"Qubit three positions 'right' of lq2 is\", lq2 + 3)"
   ],
   "metadata": {
    "collapsed": false,
    "ExecuteTime": {
     "end_time": "2023-06-15T02:52:09.095895738Z",
     "start_time": "2023-06-15T02:52:09.094245780Z"
    }
   }
  },
  {
   "cell_type": "markdown",
   "source": [
    "Last but not least is `cirq.GridQubit` which is labeled by a point in two dimensions. Of course, then the concept of adjacency is extended to 2 dimensions. There are also a few convenience methods for creating specific shapes."
   ],
   "metadata": {
    "collapsed": false
   }
  },
  {
   "cell_type": "code",
   "execution_count": 3,
   "outputs": [
    {
     "name": "stdout",
     "output_type": "stream",
     "text": [
      "q(1, 2)\n",
      "Qubits in a square [cirq.GridQubit(0, 0), cirq.GridQubit(0, 1), cirq.GridQubit(0, 2), cirq.GridQubit(1, 0), cirq.GridQubit(1, 1), cirq.GridQubit(1, 2), cirq.GridQubit(2, 0), cirq.GridQubit(2, 1), cirq.GridQubit(2, 2)]\n",
      "Qubits in a rectangle [cirq.GridQubit(0, 0), cirq.GridQubit(0, 1), cirq.GridQubit(0, 2), cirq.GridQubit(1, 0), cirq.GridQubit(1, 1), cirq.GridQubit(1, 2)]\n",
      "{cirq.GridQubit(2, 1), cirq.GridQubit(1, 2), cirq.GridQubit(0, 1), cirq.GridQubit(1, 0)}\n",
      "In rectangular grid, is (0, 2) adjacent to (1, 0) - False\n"
     ]
    }
   ],
   "source": [
    "gq1_2 = cirq.GridQubit(1, 2)\n",
    "square_gqs = cirq.GridQubit.square(3)\n",
    "rect_qgs = cirq.GridQubit.rect(2, 3)\n",
    "\n",
    "print(gq1_2)\n",
    "print(\"Qubits in a square\", square_gqs)\n",
    "print(\"Qubits in a rectangle\", rect_qgs)\n",
    "\n",
    "sq1_1 = square_gqs[4]\n",
    "print(sq1_1.neighbors(qids = square_gqs))\n",
    "rq0_2 = square_gqs[2]\n",
    "rq1_0 = square_gqs[3]\n",
    "print(\"In rectangular grid, is (0, 2) adjacent to (1, 0) -\", rq0_2.is_adjacent(rq1_0))"
   ],
   "metadata": {
    "collapsed": false,
    "ExecuteTime": {
     "end_time": "2023-06-15T02:52:09.107240629Z",
     "start_time": "2023-06-15T02:52:09.096981004Z"
    }
   }
  },
  {
   "cell_type": "markdown",
   "source": [
    "## Part 2: Gates and Operations\n",
    "\n",
    "Now it is time for Gates and Operations! Qubits on their own are very interesting, but (conceptually) they are not very dynamic. They are what they are. So let's try to manipulate them using `Gate` and `Operation`. Taking it straight from the [documentation](https://quantumai.google/cirq/start/basics#gates_and_operations)\n",
    "\n",
    "> - A Gate is an effect that can be applied to a set of qubits.\n",
    ">  - An Operation is a gate applied to a set of qubits.\n",
    "\n",
    "In very crude terms you can think about a `Gate` as a \"function\" and `Operation` as a result of applying `Gate` to qubits or qubits - with the caveat that `Operation` will actually be evaluated during simulation. There are tons of gates already available, and you can even create your own!"
   ],
   "metadata": {
    "collapsed": false
   }
  },
  {
   "cell_type": "code",
   "execution_count": 33,
   "outputs": [
    {
     "name": "stdout",
     "output_type": "stream",
     "text": [
      "X gate - X\n",
      "X operation - X(q(0))\n",
      "Square root of X operation - X**0.5(q(2))\n",
      "CNOT gate CNOT\n",
      "CNOT operation CNOT(q(1), q(2))\n"
     ]
    }
   ],
   "source": [
    "q0, q1, q2 = cirq.LineQubit.range(3)\n",
    "\n",
    "x_gate = cirq.X\n",
    "print(\"X gate -\", x_gate)\n",
    "print(\"X operation -\", x_gate(q0))\n",
    "\n",
    "sqrt_x = cirq.X ** 0.5\n",
    "print(\"Square root of X operation -\", sqrt_x(q2))\n",
    "cnot_gate = cirq.CNOT\n",
    "cnot_operation = cnot_gate(q1, q2)\n",
    "print(\"CNOT gate\", cnot_gate)\n",
    "print(\"CNOT operation\", cnot_operation)\n",
    "\n",
    "# Your own gate from a unitary matrix!\n",
    "unitary_matrix = np.matrix([[1j, 0], [0, 1j]])\n",
    "assert (np.identity(2) == unitary_matrix.H * unitary_matrix).all()\n",
    "assert (np.identity(2) == unitary_matrix * unitary_matrix.H).all()\n",
    "\n",
    "\n",
    "class QuantumGacekGate(cirq.Gate):\n",
    "    def __init__(self):\n",
    "        super(QuantumGacekGate, self)\n",
    "\n",
    "    def _num_qubits_(self) -> int:\n",
    "        return 1\n",
    "\n",
    "    def _unitary_(self):\n",
    "        return unitary_matrix\n",
    "\n",
    "    def _circuit_diagram_info_(self, args):\n",
    "        return \"QC\"\n"
   ],
   "metadata": {
    "collapsed": false,
    "ExecuteTime": {
     "end_time": "2023-06-16T02:23:41.397845520Z",
     "start_time": "2023-06-16T02:23:41.353075141Z"
    }
   }
  },
  {
   "cell_type": "markdown",
   "source": [
    "## Part 3: Circuits and Moments\n",
    "\n",
    "Okay, given qubits and gates now we can get to building circuits. You might have intuition about what a circuit is - a collection of qubits and gates operating on those qubits, and that is good intuition. From Cirq's perspective though, `Circuit` is a collection of `Moment`s. You can think about a moment as a slice of time (duh), By default, Cirq will try to execute every operation as early as possible (moving \"left\" on the circuit), but we can of course override that behaviour."
   ],
   "metadata": {
    "collapsed": false
   }
  },
  {
   "cell_type": "code",
   "execution_count": 81,
   "outputs": [
    {
     "name": "stdout",
     "output_type": "stream",
     "text": [
      "Circuit 1\n",
      "q_0: ───H───────\n",
      "\n",
      "q_1: ───H───×───\n",
      "            │\n",
      "q_2: ───────×───\n",
      "Circuit 1 Moments\n",
      "[cirq.Moment(\n",
      "    cirq.H(cirq.NamedQubit('q_0')),\n",
      "    cirq.H(cirq.NamedQubit('q_1')),\n",
      "), cirq.Moment(\n",
      "    cirq.SWAP(cirq.NamedQubit('q_1'), cirq.NamedQubit('q_2')),\n",
      ")]\n",
      "######\n",
      "0: ───H───\n",
      "\n",
      "1: ───H───\n",
      "\n",
      "2: ───H───\n",
      "\n",
      "3: ───H───\n",
      "[cirq.Moment(\n",
      "    cirq.H(cirq.LineQubit(0)),\n",
      "    cirq.H(cirq.LineQubit(1)),\n",
      "    cirq.H(cirq.LineQubit(2)),\n",
      "    cirq.H(cirq.LineQubit(3)),\n",
      ")]\n",
      "######\n",
      "0: ───Z───\n",
      "\n",
      "1: ───Z───\n",
      "\n",
      "A: ───@───\n",
      "      │\n",
      "B: ───X───\n",
      "[cirq.Moment(\n",
      "    cirq.CNOT(cirq.NamedQubit('A'), cirq.NamedQubit('B')),\n",
      "    cirq.Z(cirq.LineQubit(0)),\n",
      "    cirq.Z(cirq.LineQubit(1)),\n",
      ")]\n"
     ]
    }
   ],
   "source": [
    "q0, q1, q2 = cirq.NamedQubit.range(3, prefix=\"q_\")\n",
    "\n",
    "# We can operations qubits one by one\n",
    "circuit_1 = cirq.Circuit()\n",
    "circuit_1.append(cirq.H(q0))\n",
    "circuit_1.append(cirq.H(q1))\n",
    "circuit_1.append(cirq.SWAP(q1, q2))\n",
    "print(\"Circuit 1\")\n",
    "print(circuit_1)\n",
    "print(\"Circuit 1 Moments\")\n",
    "print(circuit_1.moments)\n",
    "print(\"######\")\n",
    "\n",
    "# We can append operations in a list\n",
    "circuit_2 = cirq.Circuit()\n",
    "circ2_qubits = cirq.LineQubit.range(4)\n",
    "circuit_2.append([cirq.H(q) for q in circ2_qubits])\n",
    "print(circuit_2)\n",
    "print(circuit_2.moments)\n",
    "print(\"######\")\n",
    "\n",
    "# We can pass operations to the constructor\n",
    "circuit_3 = cirq.Circuit(\n",
    "    [cirq.CNOT(cirq.NamedQubit(\"A\"), cirq.NamedQubit(\"B\"))] + [cirq.Z(q) for q in cirq.LineQubit.range(2)])\n",
    "print(circuit_3)\n",
    "print(circuit_3.moments)\n"
   ],
   "metadata": {
    "collapsed": false,
    "ExecuteTime": {
     "end_time": "2023-06-16T04:08:24.916012243Z",
     "start_time": "2023-06-16T04:08:24.913091654Z"
    }
   }
  },
  {
   "cell_type": "markdown",
   "source": [
    "## Part 4: Simulation\n",
    "\n",
    "Okay, we declared multiple circuits, but now it is time for real fun! Simulating our quantum circuits. Of course, Cirq comes with its very own `cirq.Simulator` that can (as per [documentation](https://quantumai.google/cirq/start/basics#simulation)) simulate up to 20 qubits."
   ],
   "metadata": {
    "collapsed": false
   }
  },
  {
   "cell_type": "code",
   "execution_count": 78,
   "outputs": [
    {
     "name": "stdout",
     "output_type": "stream",
     "text": [
      "measurements: (no measurements)\n",
      "\n",
      "qubits: (cirq.NamedQubit('q_0'),)\n",
      "output vector: 0.707|0⟩ + 0.707|1⟩\n",
      "\n",
      "qubits: (cirq.NamedQubit('q_1'),)\n",
      "output vector: |0⟩\n",
      "\n",
      "qubits: (cirq.NamedQubit('q_2'),)\n",
      "output vector: 0.707|0⟩ + 0.707|1⟩\n",
      "\n",
      "phase:\n",
      "output vector: |⟩\n",
      "####\n",
      "state at step 0: [0.5+0.j 0. +0.j 0.5+0.j 0. +0.j 0.5+0.j 0. +0.j 0.5+0.j 0. +0.j]\n",
      "state at step 1: [0.5+0.j 0.5+0.j 0. +0.j 0. +0.j 0.5+0.j 0.5+0.j 0. +0.j 0. +0.j]\n"
     ]
    }
   ],
   "source": [
    "simulator = cirq.Simulator()\n",
    "results_1 = simulator.simulate(circuit_1)\n",
    "print(results_1)\n",
    "print(\"####\")\n",
    "for i, step in enumerate(simulator.simulate_moment_steps(circuit_1)):\n",
    "    print('state at step %d: %s' % (i, np.around(step.state_vector(), 3)))"
   ],
   "metadata": {
    "collapsed": false,
    "ExecuteTime": {
     "end_time": "2023-06-16T04:08:18.238614128Z",
     "start_time": "2023-06-16T04:08:18.196591009Z"
    }
   }
  },
  {
   "cell_type": "code",
   "execution_count": 82,
   "outputs": [],
   "source": [
    "# But what about measurements?\n",
    "circuit_2.append(cirq.measure(circ2_qubits, key=\"m\"))\n",
    "results_2 = simulator.simulate(circuit_2)"
   ],
   "metadata": {
    "collapsed": false,
    "ExecuteTime": {
     "end_time": "2023-06-16T04:08:28.768264214Z",
     "start_time": "2023-06-16T04:08:28.763575742Z"
    }
   }
  },
  {
   "cell_type": "code",
   "execution_count": 91,
   "outputs": [
    {
     "name": "stdout",
     "output_type": "stream",
     "text": [
      "Counter({4: 662, 13: 655, 15: 653, 3: 650, 14: 646, 5: 642, 1: 639, 2: 635, 7: 623, 9: 623, 12: 619, 6: 604, 0: 597, 10: 591, 8: 586, 11: 575})\n"
     ]
    }
   ],
   "source": [
    "# Sampling time!\n",
    "circ2_samples = simulator.run(circuit_2, repetitions=10000)\n",
    "print(circ2_samples.histogram(key=\"m\"))\n"
   ],
   "metadata": {
    "collapsed": false,
    "ExecuteTime": {
     "end_time": "2023-06-16T04:16:09.602773934Z",
     "start_time": "2023-06-16T04:16:09.554625331Z"
    }
   }
  },
  {
   "cell_type": "markdown",
   "source": [
    "## Part 5: Visualizing results\n",
    "Now, last but not least - we can visualize the results - Cirq provides a neat method called `plot_state_histogram`."
   ],
   "metadata": {
    "collapsed": false
   }
  },
  {
   "cell_type": "code",
   "execution_count": 90,
   "outputs": [
    {
     "name": "stdout",
     "output_type": "stream",
     "text": [
      "Counter({3: 672, 10: 645, 13: 640, 0: 637, 7: 637, 4: 632, 5: 631, 2: 628, 15: 628, 1: 621, 6: 617, 8: 615, 12: 604, 14: 603, 11: 601, 9: 589})\n"
     ]
    },
    {
     "data": {
      "text/plain": "<Figure size 640x480 with 1 Axes>",
      "image/png": "[encoded data removed]"
     },
     "metadata": {},
     "output_type": "display_data"
    }
   ],
   "source": [
    "import matplotlib.pyplot as plt\n",
    "cirq.plot_state_histogram(circ2_samples, plt.subplot())\n",
    "plt.show()"
   ],
   "metadata": {
    "collapsed": false,
    "ExecuteTime": {
     "end_time": "2023-06-16T04:11:30.540787668Z",
     "start_time": "2023-06-16T04:11:30.418838651Z"
    }
   }
  },
  {
   "cell_type": "code",
   "execution_count": null,
   "outputs": [],
   "source": [],
   "metadata": {
    "collapsed": false
   }
  }
 ],
 "metadata": {
  "kernelspec": {
   "display_name": "Python 3",
   "language": "python",
   "name": "python3"
  },
  "language_info": {
   "codemirror_mode": {
    "name": "ipython",
    "version": 2
   },
   "file_extension": ".py",
   "mimetype": "text/x-python",
   "name": "python",
   "nbconvert_exporter": "python",
   "pygments_lexer": "ipython2",
   "version": "2.7.6"
  }
 },
 "nbformat": 4,
 "nbformat_minor": 0
}
