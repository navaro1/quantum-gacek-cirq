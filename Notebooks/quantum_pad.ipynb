{
 "cells": [
  {
   "cell_type": "markdown",
   "source": [
    "# Implementing Quantum One-time pad with Cirq\n",
    "\n",
    "This notebook is based on [lecture notes from TU Delft university](https://ocw.tudelft.nl/wp-content/uploads/LN_Week1.pdf)\n",
    "\n",
    "Today we will see simple quantum encryption technique which is analogous to a one-time pad."
   ],
   "metadata": {
    "collapsed": false
   }
  },
  {
   "cell_type": "markdown",
   "source": [
    "## What is _classical_ one-time pad?\n",
    "\n",
    "First, let us understand and implement the idea behind the classical algorithm. We will consider the following scenario - Alice and Bob want to share a secret message between them. The one-time pad is a technique that will take this message, together with a _secret key_ and produce an encrypted message.\n",
    "\n",
    "The _secret key_ is simply a binary string of the same length as the secret message. What we've done here is basically \"abstracted out\" the problem of encoding the message to a provider of the secret key. To ensure that the eavesdropper cannot learn the content of the message, we must have secret keys that are only known to Alice and Bob.\n",
    "\n",
    "But - technically the idea is simple, we will take a binary string message and add (mod 2)/XOR the secret key to create encrypted message"
   ],
   "metadata": {
    "collapsed": false
   }
  },
  {
   "cell_type": "code",
   "execution_count": 1,
   "outputs": [
    {
     "name": "stdout",
     "output_type": "stream",
     "text": [
      "[1 1 0 0 0 1 1 1]\n"
     ]
    }
   ],
   "source": [
    "import numpy as np\n",
    "\n",
    "secret_key_known_only_to_alice_and_bob = np.array([0, 1, 1, 0, 1, 0, 1, 0])\n",
    "alice_message = np.array([1, 0, 1, 0, 1, 1, 0, 1])\n",
    "\n",
    "encrypted_message = alice_message ^ secret_key_known_only_to_alice_and_bob # XOR operation\n",
    "print(encrypted_message)"
   ],
   "metadata": {
    "collapsed": false,
    "ExecuteTime": {
     "end_time": "2023-07-03T11:06:37.222923774Z",
     "start_time": "2023-07-03T11:06:37.217576464Z"
    }
   }
  },
  {
   "cell_type": "markdown",
   "source": [
    "Of course now we need a way for Bob to decrypt the message. The interesting fact about XOR operation is that if we apply it twice, we will end up with original string, so `(a ^ b ^ b == a)`. By our assumption Alice and Bob fully securely share `secret_key_known_only_to_alice_and_bob`. We hence can do the following."
   ],
   "metadata": {
    "collapsed": false
   }
  },
  {
   "cell_type": "code",
   "execution_count": 3,
   "outputs": [
    {
     "name": "stdout",
     "output_type": "stream",
     "text": [
      "Bob decoded message: [1 0 1 0 1 1 0 1] Is Bob and Alice message equal? True\n"
     ]
    }
   ],
   "source": [
    "bob_decrypted_message = encrypted_message ^ secret_key_known_only_to_alice_and_bob\n",
    "print(\"Bob decoded message:\", bob_decrypted_message, \"Is Bob and Alice message equal?\", np.all(alice_message == bob_decrypted_message))"
   ],
   "metadata": {
    "collapsed": false,
    "ExecuteTime": {
     "end_time": "2023-07-03T11:11:42.602419587Z",
     "start_time": "2023-07-03T11:11:42.599960495Z"
    }
   }
  },
  {
   "cell_type": "markdown",
   "source": [
    "## Jumping into quantum world\n",
    "\n",
    "As we can see the algorithm is straight forward. We still need to assume that Alice and Bob shared the secret keys beforehand. First let's try naive implementation. There is no direct quantum analog of `XOR` gate, so we will use the _bit flip_ it simply changes $| 0 \\rangle$ to $| 1 \\rangle$ and $| 1 \\rangle$ to $| 0 \\rangle$."
   ],
   "metadata": {
    "collapsed": false
   }
  },
  {
   "cell_type": "code",
   "execution_count": 5,
   "outputs": [],
   "source": [
    "import cirq\n",
    "alice_qubits = cirq.NamedQubit.range(8, prefix=\"alice_\")\n"
   ],
   "metadata": {
    "collapsed": false,
    "ExecuteTime": {
     "end_time": "2023-07-03T11:22:08.625012842Z",
     "start_time": "2023-07-03T11:22:08.580085464Z"
    }
   }
  },
  {
   "cell_type": "code",
   "execution_count": null,
   "outputs": [],
   "source": [],
   "metadata": {
    "collapsed": false
   }
  }
 ],
 "metadata": {
  "kernelspec": {
   "display_name": "Python 3",
   "language": "python",
   "name": "python3"
  },
  "language_info": {
   "codemirror_mode": {
    "name": "ipython",
    "version": 2
   },
   "file_extension": ".py",
   "mimetype": "text/x-python",
   "name": "python",
   "nbconvert_exporter": "python",
   "pygments_lexer": "ipython2",
   "version": "2.7.6"
  }
 },
 "nbformat": 4,
 "nbformat_minor": 0
}
