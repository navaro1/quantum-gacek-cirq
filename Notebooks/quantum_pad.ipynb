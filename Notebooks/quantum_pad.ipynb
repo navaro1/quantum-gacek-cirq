{
 "cells": [
  {
   "cell_type": "markdown",
   "metadata": {},
   "source": [
    "# Implementing Quantum One-time pad with Cirq\n",
    "\n",
    "This notebook is based on [lecture notes from TU Delft university](https://ocw.tudelft.nl/wp-content/uploads/LN_Week1.pdf)\n",
    "\n",
    "Today we will see simple quantum encryption technique which is analogous to a one-time pad."
   ]
  },
  {
   "cell_type": "markdown",
   "metadata": {},
   "source": [
    "## What is _classical_ one-time pad?\n",
    "\n",
    "First, let us understand and implement the idea behind the classical algorithm. We will consider the following scenario - Alice and Bob want to share a secret message between them. The one-time pad is a technique that will take this message, together with a _secret key_ and produce an encrypted message.\n",
    "\n",
    "The _secret key_ is simply a binary string of the same length as the secret message. What we've done here is basically \"abstracted out\" the problem of encoding the message to a provider of the secret key. To ensure that the eavesdropper cannot learn the content of the message, we must have secret keys that are only known to Alice and Bob.\n",
    "\n",
    "But - technically the idea is simple, we will take a binary string message and add (mod 2)/XOR the secret key to create encrypted message"
   ]
  },
  {
   "cell_type": "code",
   "execution_count": 46,
   "metadata": {
    "ExecuteTime": {
     "end_time": "2023-07-04T11:14:27.800409874Z",
     "start_time": "2023-07-04T11:14:27.762516078Z"
    }
   },
   "outputs": [
    {
     "name": "stdout",
     "output_type": "stream",
     "text": [
      "[0 1 0 0 0 1 1 1]\n"
     ]
    }
   ],
   "source": [
    "import numpy as np\n",
    "\n",
    "secret_key_known_only_to_alice_and_bob = np.array([1, 1, 1, 0, 1, 0, 1, 0])\n",
    "alice_message = np.array([1, 0, 1, 0, 1, 1, 0, 1])\n",
    "\n",
    "encrypted_message = alice_message ^ secret_key_known_only_to_alice_and_bob # XOR operation\n",
    "print(encrypted_message)"
   ]
  },
  {
   "cell_type": "markdown",
   "metadata": {},
   "source": [
    "Of course now we need a way for Bob to decrypt the message. The interesting fact about XOR operation is that if we apply it twice, we will end up with original string, so `(a ^ b ^ b == a)`. By our assumption Alice and Bob fully securely share `secret_key_known_only_to_alice_and_bob`. We hence can do the following."
   ]
  },
  {
   "cell_type": "code",
   "execution_count": 47,
   "metadata": {
    "ExecuteTime": {
     "end_time": "2023-07-04T11:14:27.801012206Z",
     "start_time": "2023-07-04T11:14:27.782502410Z"
    }
   },
   "outputs": [
    {
     "name": "stdout",
     "output_type": "stream",
     "text": [
      "Bob decoded message: [1 0 1 0 1 1 0 1] Is Bob and Alice message equal? True\n"
     ]
    }
   ],
   "source": [
    "bob_decrypted_message = encrypted_message ^ secret_key_known_only_to_alice_and_bob\n",
    "print(\"Bob decoded message:\", bob_decrypted_message, \"Is Bob and Alice message equal?\", np.all(alice_message == bob_decrypted_message))"
   ]
  },
  {
   "cell_type": "markdown",
   "metadata": {
    "ExecuteTime": {
     "end_time": "2023-07-04T10:47:02.472017663Z",
     "start_time": "2023-07-04T10:47:02.470549908Z"
    }
   },
   "source": [
    "## Jumping into quantum world\n",
    "\n",
    "As we can see the algorithm is straight forward. We still need to assume that Alice and Bob shared the secret keys beforehand. First let's try naive implementation. There is no direct quantum analog of `XOR` gate, so we will use the _bit flip_ it simply changes $| 0 \\rangle$ to $| 1 \\rangle$ and $| 1 \\rangle$ to $| 0 \\rangle$."
   ]
  },
  {
   "cell_type": "code",
   "execution_count": 48,
   "metadata": {},
   "outputs": [
    {
     "name": "stdout",
     "output_type": "stream",
     "text": [
      "Bob decoded message: [1 0 1 0 1 1 0 1] Are Alice's and Bob's messages equal? True\n"
     ]
    }
   ],
   "source": [
    "import cirq\n",
    "\n",
    "message_length = 8\n",
    "alice_qubits = cirq.NamedQubit.range(message_length, prefix=\"alice_\")\n",
    "quantum_one_pad_encoder = cirq.Circuit()\n",
    "for idx in range(len(secret_key_known_only_to_alice_and_bob)):\n",
    "    # Prepare qubits in appropriate state\n",
    "    if alice_message[idx] == 1:\n",
    "        quantum_one_pad_encoder.append(cirq.X(alice_qubits[idx]))\n",
    "    # Encoding message based on secret key\n",
    "    if secret_key_known_only_to_alice_and_bob[idx] == 1:\n",
    "        quantum_one_pad_encoder.append(cirq.X(alice_qubits[idx]))\n",
    "\n",
    "quantum_one_pad_encoder.append(cirq.measure(alice_qubits, key=\"encoded_message\"))\n",
    "\n",
    "simulator = cirq.Simulator()\n",
    "\n",
    "encryption_result = simulator.simulate(quantum_one_pad_encoder)\n",
    "encoded_message = encryption_result.measurements['encoded_message']\n",
    "\n",
    "bob_qubits = cirq.NamedQubit.range(message_length, prefix=\"bob_\")\n",
    "quantum_one_pad_decoder = cirq.Circuit()\n",
    "for idx in range(len(secret_key_known_only_to_alice_and_bob)):\n",
    "    if encoded_message[idx] == 1:\n",
    "        quantum_one_pad_decoder.append(cirq.X(bob_qubits[idx]))\n",
    "    # Decoding message based on secret key\n",
    "    if secret_key_known_only_to_alice_and_bob[idx] == 1:\n",
    "        quantum_one_pad_decoder.append(cirq.X(bob_qubits[idx]))\n",
    "\n",
    "quantum_one_pad_decoder.append(cirq.measure(bob_qubits, key=\"decoded_message\"))\n",
    "decryption_result = simulator.simulate(quantum_one_pad_decoder)\n",
    "decoded_message = decryption_result.measurements['decoded_message']\n",
    "\n",
    "print(\"Bob decoded message:\", decoded_message, \"Are Alice's and Bob's messages equal?\", np.all(alice_message == decoded_message))\n"
   ]
  },
  {
   "cell_type": "markdown",
   "metadata": {},
   "source": [
    "That overall looks simple, but let's say Alice want to use QC to its maximal potential and send qubit states in different base, for example  $| + \\rangle$ and  $| - \\rangle$. Let's update example above to see if simply changing:\n",
    "```python\n",
    "quantum_one_pad_encoder.append(cirq.X(alice_qubits[idx]))\n",
    "```\n",
    "to\n",
    "```python\n",
    "quantum_one_pad_encoder.append(cirq.X(alice_qubits[idx]))\n",
    "# Use Hadamard base\n",
    "quantum_one_pad_encoder.append(cirq.H(alice_qubits[idx]))\n",
    "```\n",
    "will help."
   ]
  },
  {
   "cell_type": "code",
   "execution_count": 49,
   "metadata": {},
   "outputs": [
    {
     "name": "stdout",
     "output_type": "stream",
     "text": [
      "Alice message:       [1 0 1 0 1 1 0 1] \n",
      "Bob decoded message: [1 0 1 0 0 1 0 1] \n",
      "Are Alice's and Bob's messages equal? False\n"
     ]
    }
   ],
   "source": [
    "message_length = 8\n",
    "alice_qubits = cirq.NamedQubit.range(message_length, prefix=\"alice_\")\n",
    "quantum_one_pad_encoder = cirq.Circuit()\n",
    "for idx in range(len(secret_key_known_only_to_alice_and_bob)):\n",
    "    # Prepare qubits in appropriate state\n",
    "    if alice_message[idx] == 1:\n",
    "        quantum_one_pad_encoder.append(cirq.X(alice_qubits[idx]))\n",
    "        # Use Hadamard base\n",
    "        quantum_one_pad_encoder.append(cirq.H(alice_qubits[idx]))\n",
    "    # Encoding message based on secret key\n",
    "    if secret_key_known_only_to_alice_and_bob[idx] == 1:\n",
    "        quantum_one_pad_encoder.append(cirq.X(alice_qubits[idx]))\n",
    "\n",
    "quantum_one_pad_encoder.append(cirq.measure(alice_qubits, key=\"encoded_message\"))\n",
    "\n",
    "simulator = cirq.Simulator()\n",
    "\n",
    "encryption_result = simulator.simulate(quantum_one_pad_encoder)\n",
    "encoded_message = encryption_result.measurements['encoded_message']\n",
    "\n",
    "bob_qubits = cirq.NamedQubit.range(message_length, prefix=\"bob_\")\n",
    "quantum_one_pad_decoder = cirq.Circuit()\n",
    "for idx in range(len(secret_key_known_only_to_alice_and_bob)):\n",
    "    if encoded_message[idx] == 1:\n",
    "        quantum_one_pad_decoder.append(cirq.X(bob_qubits[idx]))\n",
    "    # Decoding message based on secret key\n",
    "    if secret_key_known_only_to_alice_and_bob[idx] == 1:\n",
    "        quantum_one_pad_decoder.append(cirq.X(bob_qubits[idx]))\n",
    "\n",
    "quantum_one_pad_decoder.append(cirq.measure(bob_qubits, key=\"decoded_message\"))\n",
    "decryption_result = simulator.simulate(quantum_one_pad_decoder)\n",
    "decoded_message = decryption_result.measurements['decoded_message']\n",
    "\n",
    "print(\n",
    "    \"Alice message:      \", alice_message, \"\\n\"\n",
    "    \"Bob decoded message:\", decoded_message, \"\\n\"\n",
    "    \"Are Alice's and Bob's messages equal?\", np.all(alice_message == decoded_message)\n",
    ")\n"
   ]
  },
  {
   "cell_type": "markdown",
   "metadata": {},
   "source": [
    "It turns out that is not the case - and if we think a little about it, it is relatively obvious why. If we apply H-gate once and then measure qubit's state we have 50/50 chance between `0` and `1`.\n",
    "\n",
    "We will need to apply H-gate on the decoding side also.\n",
    "\n",
    "Before diving even deeper, we can see that we can actually use 4 qubit states namely $| 0 \\rangle$, $| 1 \\rangle$, $| + \\rangle$, $| - \\rangle$. This will make our message \"denser\", _but_ we will need to have twice as long key to be able to decrypt the message. In this case there is inherent tradeoff between number of qubits and bits used.\n",
    "Another important difference is that now we will use quantum channel to communicate (basically, we do not measure until decryption)."
   ]
  },
  {
   "cell_type": "code",
   "execution_count": 54,
   "metadata": {},
   "outputs": [
    {
     "name": "stdout",
     "output_type": "stream",
     "text": [
      "channel_0: ───X───X───H───X───H───M('decoded_message')───\n",
      "                                  │\n",
      "channel_1: ───────X───────X───────M──────────────────────\n",
      "                                  │\n",
      "channel_2: ───X───X───────X───────M──────────────────────\n",
      "                                  │\n",
      "channel_3: ───────X───────X───────M──────────────────────\n",
      "Alice message:       [1 0 1 0] \n",
      "Bob decoded message: [0 0 1 0] \n",
      "Are Alice's and Bob's messages equal? False\n"
     ]
    }
   ],
   "source": [
    "message_length = 4\n",
    "key_length = message_length * 2\n",
    "short_alice_message = alice_message[:message_length]\n",
    "\n",
    "channel_qubits = cirq.NamedQubit.range(message_length, prefix=\"channel_\")\n",
    "\n",
    "qubit_preparation_ops = []\n",
    "qubit_encryption_ops_x = []\n",
    "qubit_encryption_ops_h = []\n",
    "for idx in range(len(secret_key_known_only_to_alice_and_bob) // 2):\n",
    "    # Prepare qubits in appropriate state\n",
    "    if short_alice_message[idx] == 1:\n",
    "         qubit_preparation_ops.append(cirq.X(channel_qubits[idx]))\n",
    "    # Encoding message based on secret key\n",
    "    if secret_key_known_only_to_alice_and_bob[2 * idx] == 1:\n",
    "        qubit_encryption_ops_x.append(cirq.X(channel_qubits[idx]))\n",
    "    if secret_key_known_only_to_alice_and_bob[2 * idx + 1] == 1:\n",
    "        qubit_encryption_ops_h.append(cirq.H(channel_qubits[idx]))\n",
    "        \n",
    "qubit_preparation_moment = cirq.Moment(qubit_preparation_ops)\n",
    "qubit_encryption_moment_x = cirq.Moment(qubit_encryption_ops_x)\n",
    "qubit_encryption_moment_h = cirq.Moment(qubit_encryption_ops_h)\n",
    "qubit_decryption_ops_x = []\n",
    "qubit_decryption_ops_h = []\n",
    "\n",
    "for idx in range(len(secret_key_known_only_to_alice_and_bob) // 2):\n",
    "    # Decoding message based on secret key. We need to apply gates in reverse order!\n",
    "    if secret_key_known_only_to_alice_and_bob[2 * idx + 1] == 1:\n",
    "        qubit_decryption_ops_x.append(cirq.H(channel_qubits[idx]))\n",
    "    if secret_key_known_only_to_alice_and_bob[2 * idx] == 1:\n",
    "        qubit_decryption_ops_h.append(cirq.X(channel_qubits[idx]))\n",
    "\n",
    "qubit_decryption_moment_h = cirq.Moment(qubit_decryption_ops_h)\n",
    "qubit_decryption_moment_x = cirq.Moment(qubit_decryption_ops_x)\n",
    "\n",
    "quantum_channel = cirq.Circuit(\n",
    "    qubit_preparation_moment, \n",
    "    qubit_encryption_moment_x, \n",
    "    qubit_encryption_moment_h, \n",
    "    qubit_decryption_moment_h,\n",
    "    qubit_decryption_moment_x\n",
    ")\n",
    "quantum_channel.append(cirq.measure(channel_qubits, key=\"decoded_message\"))\n",
    "decryption_result = simulator.simulate(quantum_channel)\n",
    "decoded_message = decryption_result.measurements['decoded_message']\n",
    "print(quantum_channel)\n",
    "print(\n",
    "    \"Alice message:      \", short_alice_message, \"\\n\"\n",
    "    \"Bob decoded message:\", decoded_message, \"\\n\"\n",
    "    \"Are Alice's and Bob's messages equal?\", np.all(short_alice_message == decoded_message)\n",
    ")"
   ]
  },
  {
   "cell_type": "code",
   "execution_count": null,
   "metadata": {},
   "outputs": [],
   "source": []
  }
 ],
 "metadata": {
  "kernelspec": {
   "display_name": "Python 3 (ipykernel)",
   "language": "python",
   "name": "python3"
  },
  "language_info": {
   "codemirror_mode": {
    "name": "ipython",
    "version": 3
   },
   "file_extension": ".py",
   "mimetype": "text/x-python",
   "name": "python",
   "nbconvert_exporter": "python",
   "pygments_lexer": "ipython3",
   "version": "3.10.11"
  }
 },
 "nbformat": 4,
 "nbformat_minor": 1
}
