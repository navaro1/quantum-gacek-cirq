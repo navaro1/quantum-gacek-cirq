{
 "cells": [
  {
   "cell_type": "markdown",
   "id": "f1faa430",
   "metadata": {},
   "source": [
    "# Implementing BB84 protocol with cirq\n",
    "\n",
    "This notebook is based on [lecture notes from TU Delft university](https://ocw.tudelft.nl/wp-content/uploads/LN_Week6.pdf)"
   ]
  },
  {
   "cell_type": "markdown",
   "id": "4ec84155",
   "metadata": {},
   "source": [
    "## What is Quantum Key Distribution?\n",
    "\n",
    "### First, private key cryptography\n",
    "\n",
    "Imagine you've written a secret note that you only want your best friend to read. To keep it secret, you decide to scramble the letters in a specific way, a way that only you and your friend understand. This method of scrambling is your _key_. Now, even if someone else gets the note, they won't understand what it says because it's all scrambled up. Your friend, who knows the key, can unscramble the note to read the original message. This is the basic idea behind the private key, or symmetric, cryptography.\n",
    "\n",
    "Private key cryptography is a type of encryption where the same key is used to both encrypt and decrypt the message. You use the key (a specific set of instructions) to convert your message into a secret code, and the same key is used to convert the secret code back into the original message. Because the same key is used for both processes, it's really important to keep the key secret. If someone else gets the key, they can decode all of your messages.\n",
    "\n",
    "The main challenge in private key cryptography is securely sharing the key with the person you want to communicate with. If you're not careful, someone else might intercept the key and decode your messages. This is known as the _key distribution problem_.\n",
    "\n",
    "### Quantum Key Distribution to the rescue!\n",
    "\n",
    "Quantum Key Distribution (QKD) offers a solution to this problem using the principles of quantum mechanics. In the quantum world, measuring a system can change its state. This is called the _observer effect._ If someone tries to intercept the key and measures these photons, they will inevitably change their states. Your best friend will notice these changes when he receives the qubits, so they will know there was an eavesdropper. QKD solves the key distribution problem by enabling you and your friend to detect eavesdropping. If there's no eavesdropping, you can use the sequence of qubits that you've sent and your friend received to create a secret key. If there is eavesdropping, you discard the key and try again.\n",
    "\n",
    "BB84 is one of the protocols realizing idea of QKD.\n",
    "\n",
    "## Our battle plan and idea\n",
    "\n",
    "In here we will not dive deep into mathematics (physics) behind every aspect of the protocol. I will provide you with references if you want to dive deeper. **Within scope of this notebook we are focusd on building the BB84 protocol using cirq, while allowing our solution not to be prefect, because we are learning.** \n",
    "\n",
    "With that preface our plan looks like this:\n",
    " 1. Implement noise-free BB84 of the protocol\n",
    " 2. Add some eavesdropping!\n",
    " 3. Check how secure is the protocol.\n",
    " 4. Add noise to the BB84 protocol.\n",
    " 5. Double check how secure is the protocol.\n",
    " 6. Use it to send secret message that is protected by law of physics."
   ]
  },
  {
   "cell_type": "markdown",
   "id": "ee08f120",
   "metadata": {},
   "source": [
    "## 1. Noise-free BB84\n",
    "\n",
    "For the sake of the document sender will be called Alice and receiver will be called Bob. \n",
    "\n",
    "To implement noise-free BB84 we will follow this steps:\n",
    " 1. Alice will generate two random binary (consisting only of `0`s and `1`s) strings - `alice_a`, `alice_b` - of the same length.\n",
    " 2. Alice will use her strings to prepare a quantum state (sequence of qubits) that she will send to Bob.\n",
    " 3. Bob will generate random binary string `bob_b` that he will use to try to _guess_ and decode Alice's message. Then Bob tells Alice that he received and measured the state he received.\n",
    " 4. Alice and Bob exchange their `_b` strings. They discard all bits that do not match (from Alice's original message and Bob's guess-decoded message). They are left with `alice_kept_a` and `bob_kept_a` strings, respectively. \n",
    " 5. Alice picks a random set of indices of `alice_kept_a` - `test_indices` and sends them to Bob. Alice and Bob use `test_indices` to create binary strings `alice_test_a` and `bob_test_a`. **If any of the bits miss-match they restart the procedure**\n",
    " 6. They now use remaining indeces (without `test_indices`) - `final_indices` - and treat is as seed for key creation via the process of privay amplification (we will discuss it later, do not worry!)\n",
    " \n",
    "Let's get to it!"
   ]
  },
  {
   "cell_type": "markdown",
   "id": "e172e989",
   "metadata": {},
   "source": [
    "### Step 0\n",
    "\n",
    "Import cirq and let's declare cirq's simulator (it enables quantum simulation!)."
   ]
  },
  {
   "cell_type": "code",
   "execution_count": 18,
   "id": "f85f7812",
   "metadata": {
    "ExecuteTime": {
     "end_time": "2023-05-17T07:23:03.313883591Z",
     "start_time": "2023-05-17T07:23:03.308670619Z"
    }
   },
   "outputs": [],
   "source": [
    "import cirq\n",
    "import numpy as np\n",
    "\n",
    "simulator = cirq.Simulator()"
   ]
  },
  {
   "cell_type": "markdown",
   "id": "542902db",
   "metadata": {},
   "source": [
    "### Step 1\n",
    "Our first step is to generate two random binary strings (represented as arrays of `0` and `1`s) - `alice_a` and `alice_b`. In the [previous screencast](https://www.youtube.com/watch?v=kANpuN2Ax0A) we build quantum random number generator. We will leverage this solution right now!\n",
    "\n",
    "We need to of course decide on the length of our initial strings. We will use length that is a multiple of 4, so for `n` the length will be `4n`. On \"average\" in step 4 half of the bits would missmatch leaving us with `2n`. In step 6, the `final_indices` will again be of half-length, leaving us with `n`."
   ]
  },
  {
   "cell_type": "code",
   "execution_count": 33,
   "id": "20ad5387",
   "metadata": {
    "ExecuteTime": {
     "end_time": "2023-05-17T07:23:49.148803199Z",
     "start_time": "2023-05-17T07:23:49.108597712Z"
    }
   },
   "outputs": [
    {
     "name": "stdout",
     "output_type": "stream",
     "text": [
      "[1 1 0 0 1 0 1 1 1 0 1 1 0 0 0 0]\n",
      "[0 0 0 0 0 0 1 1 1 1 1 0 0 1 1 1]\n"
     ]
    }
   ],
   "source": [
    "from quantum_lib.qrng import QuantumRandomNumberGenerator\n",
    "\n",
    "qrng = QuantumRandomNumberGenerator(simulator)\n",
    "\n",
    "n = 4\n",
    "string_length = 4 * n\n",
    "\n",
    "alice_a = qrng.generate_binary_array(string_length)\n",
    "alice_b = qrng.generate_binary_array(string_length)\n",
    "print(alice_a)\n",
    "print(alice_b)"
   ]
  },
  {
   "cell_type": "markdown",
   "source": [
    "### Step 2\n",
    "Now it is time to prepare a quantum state that Alice will send to Bob. In our simplified version we will use good old H-gate. The idea is simple, if the `alice_b[i] == 1` we will apply H-gate to that particular qubit. For sciency folks - we are changing _computational basis_.\n",
    "\n",
    "To do that we will first need to create an array of qubits of `string_length`. Recall that in cirq all qubits are in \"0\" ($| 0 \\rangle$) state initially. In classical computing we would use the _NOT_ gate. It's quantum analogue is called _X-gate_. Summing up our tactics looks like this:\n",
    " 1. if `alice_a[idx] == 1` then apply `X` gate.\n",
    " 2. If `alice_b[idx] == 1` then apply `H` gate."
   ],
   "metadata": {
    "collapsed": false
   }
  },
  {
   "cell_type": "code",
   "execution_count": 48,
   "outputs": [
    {
     "name": "stdout",
     "output_type": "stream",
     "text": [
      "q_0: ────X───────\n",
      "\n",
      "q_1: ────X───────\n",
      "\n",
      "q_4: ────X───────\n",
      "\n",
      "q_6: ────X───H───\n",
      "\n",
      "q_7: ────X───H───\n",
      "\n",
      "q_8: ────X───H───\n",
      "\n",
      "q_9: ────H───────\n",
      "\n",
      "q_10: ───X───H───\n",
      "\n",
      "q_11: ───X───────\n",
      "\n",
      "q_13: ───H───────\n",
      "\n",
      "q_14: ───H───────\n",
      "\n",
      "q_15: ───H───────\n"
     ]
    }
   ],
   "source": [
    "quantum_channel = cirq.Circuit()\n",
    "channel_qubits = cirq.NamedQubit.range(string_length, prefix=\"q_\")\n",
    "for idx in range(string_length):\n",
    "    if alice_a[idx] == 1:\n",
    "        quantum_channel.append(cirq.X(channel_qubits[idx]))\n",
    "    if alice_b[idx] == 1:\n",
    "        quantum_channel.append(cirq.H(channel_qubits[idx]))\n",
    "print(quantum_channel)"
   ],
   "metadata": {
    "collapsed": false,
    "ExecuteTime": {
     "end_time": "2023-05-17T07:44:50.514961421Z",
     "start_time": "2023-05-17T07:44:50.467951707Z"
    }
   }
  },
  {
   "cell_type": "markdown",
   "source": [
    "We can see that the qubits that did not need either `X` or `H` gate are not showing up. Do not worry they _will_ show up when we will measure the state! We called the variable `quantum_channel` to underscore the fact that on one side we have Alice preparing the qubits (that is - state) and on the other hand we will have Bob reading the state (that is - the qubits)."
   ],
   "metadata": {
    "collapsed": false
   }
  },
  {
   "cell_type": "markdown",
   "source": [
    "### Step 3\n",
    "In this step Bob will try to \"guess-decode\" the `alice_a` string. How? He will generate his own `bob_b` string and whenever `bob_b[idx] == 1` he will \"revert\" the `H` gate. How? `H` gate has this awesome property that if you apply it twice you get your original state!"
   ],
   "metadata": {
    "collapsed": false
   }
  },
  {
   "cell_type": "code",
   "execution_count": 47,
   "outputs": [],
   "source": [
    "bob_b = qrng.generate_binary_array(string_length)\n",
    "for idx in range(string_length):\n",
    "    if bob_b[idx] == 1:\n",
    "        quantum_channel.append(cirq.H(channel_qubits[idx]))\n",
    "quantum_channel.append(cirq.measure(channel_qubits, key=\"bob_measurement\"))"
   ],
   "metadata": {
    "collapsed": false,
    "ExecuteTime": {
     "end_time": "2023-05-17T07:43:21.266841748Z",
     "start_time": "2023-05-17T07:43:21.219937177Z"
    }
   }
  },
  {
   "cell_type": "code",
   "execution_count": 42,
   "outputs": [
    {
     "name": "stdout",
     "output_type": "stream",
     "text": [
      "q_0: ────X───────────M('bob_measurement')───\n",
      "                     │\n",
      "q_1: ────X───H───────M──────────────────────\n",
      "                     │\n",
      "q_2: ────H───────────M──────────────────────\n",
      "                     │\n",
      "q_3: ────────────────M──────────────────────\n",
      "                     │\n",
      "q_4: ────X───────────M──────────────────────\n",
      "                     │\n",
      "q_5: ────────────────M──────────────────────\n",
      "                     │\n",
      "q_6: ────X───H───────M──────────────────────\n",
      "                     │\n",
      "q_7: ────X───H───H───M──────────────────────\n",
      "                     │\n",
      "q_8: ────X───H───H───M──────────────────────\n",
      "                     │\n",
      "q_9: ────H───H───────M──────────────────────\n",
      "                     │\n",
      "q_10: ───X───H───────M──────────────────────\n",
      "                     │\n",
      "q_11: ───X───────────M──────────────────────\n",
      "                     │\n",
      "q_12: ───────────────M──────────────────────\n",
      "                     │\n",
      "q_13: ───H───H───────M──────────────────────\n",
      "                     │\n",
      "q_14: ───H───H───────M──────────────────────\n",
      "                     │\n",
      "q_15: ───H───H───────M──────────────────────\n"
     ]
    }
   ],
   "source": [
    "print(quantum_channel)"
   ],
   "metadata": {
    "collapsed": false,
    "ExecuteTime": {
     "end_time": "2023-05-17T07:37:32.476934424Z",
     "start_time": "2023-05-17T07:37:32.427910057Z"
    }
   }
  },
  {
   "cell_type": "code",
   "execution_count": 3,
   "id": "e8c667a2",
   "metadata": {},
   "outputs": [],
   "source": [
    "### What is privacy amplification?"
   ]
  },
  {
   "cell_type": "code",
   "execution_count": null,
   "outputs": [],
   "source": [],
   "metadata": {
    "collapsed": false
   }
  },
  {
   "cell_type": "code",
   "execution_count": null,
   "id": "b7272cdd",
   "metadata": {},
   "outputs": [],
   "source": []
  },
  {
   "cell_type": "code",
   "execution_count": null,
   "id": "03c9bab8",
   "metadata": {},
   "outputs": [],
   "source": [
    "### What about Eve?"
   ]
  },
  {
   "cell_type": "code",
   "execution_count": null,
   "id": "b6c32f70",
   "metadata": {},
   "outputs": [],
   "source": []
  },
  {
   "cell_type": "markdown",
   "id": "6673c4e9",
   "metadata": {},
   "source": [
    "## Let's make some noise!"
   ]
  },
  {
   "cell_type": "markdown",
   "id": "ff7c7fa7",
   "metadata": {},
   "source": [
    "## Time to send a secret message"
   ]
  }
 ],
 "metadata": {
  "kernelspec": {
   "display_name": "qg-cirq",
   "language": "python",
   "name": "qg-cirq"
  },
  "language_info": {
   "codemirror_mode": {
    "name": "ipython",
    "version": 3
   },
   "file_extension": ".py",
   "mimetype": "text/x-python",
   "name": "python",
   "nbconvert_exporter": "python",
   "pygments_lexer": "ipython3",
   "version": "3.10.11"
  }
 },
 "nbformat": 4,
 "nbformat_minor": 5
}
