{
 "cells": [
  {
   "cell_type": "markdown",
   "id": "f1faa430",
   "metadata": {},
   "source": [
    "# Implementing BB84 protocol with cirq\n",
    "\n",
    "This notebook is based on [lecture notes from TU Delft university](https://ocw.tudelft.nl/wp-content/uploads/LN_Week6.pdf)"
   ]
  },
  {
   "cell_type": "markdown",
   "id": "4ec84155",
   "metadata": {},
   "source": [
    "## What is Quantum Key Distribution?\n",
    "\n",
    "### First, private key cryptography\n",
    "\n",
    "Imagine you've written a secret note that you only want your best friend to read. To keep it secret, you decide to scramble the letters in a specific way, a way that only you and your friend understand. This method of scrambling is your _key_. Now, even if someone else gets the note, they won't understand what it says because it's all scrambled up. Your friend, who knows the key, can unscramble the note to read the original message. This is the basic idea behind the private key, or symmetric, cryptography.\n",
    "\n",
    "Private key cryptography is a type of encryption where the same key is used to both encrypt and decrypt the message. You use the key (a specific set of instructions) to convert your message into a secret code, and the same key is used to convert the secret code back into the original message. Because the same key is used for both processes, it's really important to keep the key secret. If someone else gets the key, they can decode all of your messages.\n",
    "\n",
    "The main challenge in private key cryptography is securely sharing the key with the person you want to communicate with. If you're not careful, someone else might intercept the key and decode your messages. This is known as the _key distribution problem_.\n",
    "\n",
    "### Quantum Key Distribution to the rescue!\n",
    "\n",
    "Quantum Key Distribution (QKD) offers a solution to this problem using the principles of quantum mechanics. In the quantum world, measuring a system can change its state. This is called the _observer effect._ If someone tries to intercept the key and measure these qubits, they will inevitably change their states. Your best friend will notice these changes when he receives the qubits, so they will know there was an eavesdropper. QKD solves the key distribution problem by enabling you and your friend to detect eavesdropping. If there's no eavesdropping, you can use the sequence of qubits that you've sent and your friend received to create a secret key. If there is eavesdropping, you discard the key and try again.\n",
    "\n",
    "BB84 is one of the protocols realizing the idea of QKD.\n",
    "\n",
    "## Our battle plan and idea\n",
    "\n",
    "Here we will not dive deep into the mathematics (physics) behind every aspect of the protocol. I will provide you with references if you want to dive deeper. **Within the scope of this notebook we are focused on building the BB84 protocol using cirq while allowing our solution not to be perfect because we are learning.**"
   ]
  },
  {
   "cell_type": "markdown",
   "id": "ee08f120",
   "metadata": {},
   "source": [
    "## Part 1: Noise-free BB84\n",
    "\n",
    "For the sake of the document, the sender will be called Alice and the receiver will be called Bob.\n",
    "\n",
    "To implement noise-free BB84 we will follow these steps:\n",
    " 1. Alice will generate two random binary (consisting only of `0`s and `1`s) strings - `alice_a`, and `alice_b` - of the same length.\n",
    " 2. Alice will use her strings to prepare a quantum state (sequence of qubits) that she will send to Bob.\n",
    " 3. Bob will generate a random binary string `bob_b` that he will use to try to _guess_ and decode Alice's message. Then Bob tells Alice that he received and measured the state he received.\n",
    " 4. Alice and Bob exchange their `_b` strings. They discard all bits that do not match (from Alice's original message and Bob's guess-decoded message). They are left with `alice_kept_a` and `bob_kept_a` strings, respectively.\n",
    " 5. Alice picks a random set of indices of `alice_kept_a` - `test_indices` and sends them to Bob. Alice and Bob use `test_indices` to create binary strings `alice_test_a` and `bob_test_a`. **If any of the bits miss-match they restart the procedure**\n",
    " 6. They now use remaining indices (without `test_indices`) - `final_indices` - and treat is as a seed for key creation via the process of privacy amplification (we will discuss it later, do not worry!)\n",
    " \n",
    "Let's get to it!"
   ]
  },
  {
   "cell_type": "markdown",
   "id": "e172e989",
   "metadata": {},
   "source": [
    "### Step 0\n",
    "\n",
    "Import cirq and let's declare cirq's simulator (it enables quantum simulation!)."
   ]
  },
  {
   "cell_type": "code",
   "execution_count": 13,
   "id": "f85f7812",
   "metadata": {
    "ExecuteTime": {
     "end_time": "2023-05-20T02:09:09.982907019Z",
     "start_time": "2023-05-20T02:09:09.909830402Z"
    }
   },
   "outputs": [],
   "source": [
    "import cirq\n",
    "import numpy as np\n",
    "\n",
    "simulator = cirq.Simulator()"
   ]
  },
  {
   "cell_type": "markdown",
   "id": "542902db",
   "metadata": {},
   "source": [
    "### Step 1\n",
    "Our first step is to generate two random binary strings (represented as arrays of `0` and `1`s) - `alice_a` and `alice_b`. In the [previous screencast](https://www.youtube.com/watch?v=kANpuN2Ax0A) we build a quantum random number generator. We will leverage this solution right now!\n",
    "\n",
    "We need to of course decide on the length of our initial strings. We will use a length that is a multiple of 4, so for `n` the length will be `4n`. On \"average\" in step 4 half of the bits would mismatch leaving us with `2n`. In step 6, the `final_indices` will again be half-length, leaving us with `n`."
   ]
  },
  {
   "cell_type": "code",
   "execution_count": 14,
   "id": "20ad5387",
   "metadata": {
    "ExecuteTime": {
     "end_time": "2023-05-20T02:09:10.134891853Z",
     "start_time": "2023-05-20T02:09:09.931989173Z"
    }
   },
   "outputs": [
    {
     "name": "stdout",
     "output_type": "stream",
     "text": [
      "[1 1 0 0 1 1 0 1 0 1 0 1 0 1 1 0]\n",
      "[0 1 1 1 0 1 1 0 1 0 0 0 0 0 0 1]\n"
     ]
    }
   ],
   "source": [
    "from quantum_lib.qrng import QuantumRandomNumberGenerator\n",
    "\n",
    "qrng = QuantumRandomNumberGenerator(simulator)\n",
    "\n",
    "n = 4\n",
    "string_length = 4 * n\n",
    "\n",
    "alice_a = qrng.generate_binary_array(string_length)\n",
    "alice_b = qrng.generate_binary_array(string_length)\n",
    "print(alice_a)\n",
    "print(alice_b)"
   ]
  },
  {
   "cell_type": "markdown",
   "source": [
    "### Step 2\n",
    "Now it is time to prepare a quantum state that Alice will send to Bob. In our simplified version we will use good old H-gate. The idea is simple if the `alice_b[i] == 1` we will apply H-gate to that particular qubit. For sciency folks - we are changing _the computational basis_.\n",
    "\n",
    "To do that we will first need to create an array of qubits of `string_length`. Recall that in cirq all qubits are in a \"0\" ($| 0 \\rangle$) state initially. In classical computing, we would use the _NOT_ gate. It's quantum analog is called _X-gate_. Summing up our tactics looks like this:\n",
    " 1. if `alice_a[idx] == 1` then apply `X` gate.\n",
    " 2. If `alice_b[idx] == 1` then apply `H` gate."
   ],
   "metadata": {
    "collapsed": false
   }
  },
  {
   "cell_type": "code",
   "execution_count": 15,
   "outputs": [
    {
     "name": "stdout",
     "output_type": "stream",
     "text": [
      "q_0: ────X───────\n",
      "\n",
      "q_1: ────X───H───\n",
      "\n",
      "q_2: ────H───────\n",
      "\n",
      "q_3: ────H───────\n",
      "\n",
      "q_4: ────X───────\n",
      "\n",
      "q_5: ────X───H───\n",
      "\n",
      "q_6: ────H───────\n",
      "\n",
      "q_7: ────X───────\n",
      "\n",
      "q_8: ────H───────\n",
      "\n",
      "q_9: ────X───────\n",
      "\n",
      "q_11: ───X───────\n",
      "\n",
      "q_13: ───X───────\n",
      "\n",
      "q_14: ───X───────\n",
      "\n",
      "q_15: ───H───────\n"
     ]
    }
   ],
   "source": [
    "quantum_channel = cirq.Circuit()\n",
    "channel_qubits = cirq.NamedQubit.range(string_length, prefix=\"q_\")\n",
    "for idx in range(string_length):\n",
    "    if alice_a[idx] == 1:\n",
    "        quantum_channel.append(cirq.X(channel_qubits[idx]))\n",
    "    if alice_b[idx] == 1:\n",
    "        quantum_channel.append(cirq.H(channel_qubits[idx]))\n",
    "print(quantum_channel)"
   ],
   "metadata": {
    "collapsed": false,
    "ExecuteTime": {
     "end_time": "2023-05-20T02:09:10.165083988Z",
     "start_time": "2023-05-20T02:09:09.966638441Z"
    }
   }
  },
  {
   "cell_type": "markdown",
   "source": [
    "We can see that the qubits that did not need either the `X` or `H` gate are not showing up. Do not worry they _will_ show up when we will measure the state! We called the variable `quantum_channel` to underscore the fact that on one side we have Alice preparing the qubits (that is - state) and on the other hand, we will have Bob reading the state (that is - the qubits)."
   ],
   "metadata": {
    "collapsed": false
   }
  },
  {
   "cell_type": "markdown",
   "source": [
    "### Step 3\n",
    "In this step, Bob will try to \"guess-decode\" the `alice_a` string. How? He will generate his own `bob_b` string and whenever `bob_b[idx] == 1` he will \"revert\" the `H` gate. How? `H` gate has this awesome property that if you apply it twice you get your original state!\n",
    "\n",
    "But what happens if `alice_b[idx] != bob_b[idx]`? That means that we have applied the `H` gate exactly once. And if you recall from our [previous screencast](https://www.youtube.com/watch?v=kANpuN2Ax0A) qubit in that state will give exactly random `0`, `1` measurements - so we will randomly measure `0` and `1`."
   ],
   "metadata": {
    "collapsed": false
   }
  },
  {
   "cell_type": "code",
   "execution_count": 16,
   "outputs": [],
   "source": [
    "bob_b = qrng.generate_binary_array(string_length)\n",
    "for idx in range(string_length):\n",
    "    if bob_b[idx] == 1:\n",
    "        quantum_channel.append(cirq.H(channel_qubits[idx]))\n",
    "quantum_channel.append(cirq.measure(channel_qubits, key=\"bob_measurement\"))"
   ],
   "metadata": {
    "collapsed": false,
    "ExecuteTime": {
     "end_time": "2023-05-20T02:09:10.173212622Z",
     "start_time": "2023-05-20T02:09:09.979271177Z"
    }
   }
  },
  {
   "cell_type": "code",
   "execution_count": 17,
   "outputs": [
    {
     "name": "stdout",
     "output_type": "stream",
     "text": [
      "q_0: ────X───H───────M('bob_measurement')───\n",
      "                     │\n",
      "q_1: ────X───H───────M──────────────────────\n",
      "                     │\n",
      "q_2: ────H───────────M──────────────────────\n",
      "                     │\n",
      "q_3: ────H───────────M──────────────────────\n",
      "                     │\n",
      "q_4: ────X───────────M──────────────────────\n",
      "                     │\n",
      "q_5: ────X───H───H───M──────────────────────\n",
      "                     │\n",
      "q_6: ────H───H───────M──────────────────────\n",
      "                     │\n",
      "q_7: ────X───────────M──────────────────────\n",
      "                     │\n",
      "q_8: ────H───────────M──────────────────────\n",
      "                     │\n",
      "q_9: ────X───H───────M──────────────────────\n",
      "                     │\n",
      "q_10: ───────────────M──────────────────────\n",
      "                     │\n",
      "q_11: ───X───H───────M──────────────────────\n",
      "                     │\n",
      "q_12: ───────────────M──────────────────────\n",
      "                     │\n",
      "q_13: ───X───H───────M──────────────────────\n",
      "                     │\n",
      "q_14: ───X───────────M──────────────────────\n",
      "                     │\n",
      "q_15: ───H───H───────M──────────────────────\n"
     ]
    }
   ],
   "source": [
    "print(quantum_channel)"
   ],
   "metadata": {
    "collapsed": false,
    "ExecuteTime": {
     "end_time": "2023-05-20T02:09:10.174752451Z",
     "start_time": "2023-05-20T02:09:10.021378925Z"
    }
   }
  },
  {
   "cell_type": "code",
   "execution_count": 18,
   "id": "e8c667a2",
   "metadata": {
    "ExecuteTime": {
     "end_time": "2023-05-20T02:09:10.175969212Z",
     "start_time": "2023-05-20T02:09:10.068531931Z"
    }
   },
   "outputs": [
    {
     "name": "stdout",
     "output_type": "stream",
     "text": [
      "Bob: Hey Alice, I received and measured state you've sent me!\n",
      "[0 0 1 0 1 1 0 1 0 0 0 0 0 0 1 0]\n"
     ]
    }
   ],
   "source": [
    "simulation_result = simulator.simulate(quantum_channel)\n",
    "bob_guess_decode = simulation_result.measurements[\"bob_measurement\"]\n",
    "print(\"Bob:\", \"Hey Alice, I received and measured state you've sent me!\")\n",
    "print(bob_guess_decode)"
   ]
  },
  {
   "cell_type": "markdown",
   "source": [
    "### Step 4\n",
    "Okay, so now Alice and Bob can exchange their `_b` strings (Bob remains unaware of Alice's `alice_a` string. Alice remains unaware of Bob's `bob_guess_decode` string). They will then compare the `_b` strings and each of them will create a substring from `alice_a`/`bob_guess_decode` using only indices that match.\n",
    "\n",
    "The interesting part is that if `_b` indices match, the corresponding `alice_a`/`bob_guess_decode` elements should also match because we used an appropriate number of `H` gates for that particular circuit.\n",
    "\n",
    "Let's print all the strings to see what exactly happens"
   ],
   "metadata": {
    "collapsed": false
   }
  },
  {
   "cell_type": "code",
   "execution_count": 19,
   "outputs": [
    {
     "name": "stdout",
     "output_type": "stream",
     "text": [
      "Alice b string: [0 1 1 1 0 1 1 0 1 0 0 0 0 0 0 1]\n",
      "Bob b string:   [1 0 0 0 0 1 1 0 0 1 0 1 0 1 0 1] \n",
      "\n",
      "Alice a string:     [1 1 0 0 1 1 0 1 0 1 0 1 0 1 1 0]\n",
      "Bob decoded string: [0 0 1 0 1 1 0 1 0 0 0 0 0 0 1 0] \n",
      "\n",
      "Alice kept: [1 1 0 1 0 0 1 0]\n",
      "Bob kept:   [1 1 0 1 0 0 1 0]\n"
     ]
    }
   ],
   "source": [
    "b_matching_indices = alice_b == bob_b\n",
    "alice_kept_a = alice_a[b_matching_indices]\n",
    "bob_kept_a = bob_guess_decode[b_matching_indices]\n",
    "print(\"Alice b string:\", alice_b)\n",
    "print(\"Bob b string:  \", bob_b, \"\\n\")\n",
    "print(\"Alice a string:    \", alice_a)\n",
    "print(\"Bob decoded string:\", bob_guess_decode, \"\\n\")\n",
    "print(\"Alice kept:\", alice_kept_a)\n",
    "print(\"Bob kept:  \", bob_kept_a)"
   ],
   "metadata": {
    "collapsed": false,
    "ExecuteTime": {
     "end_time": "2023-05-20T02:09:10.208371890Z",
     "start_time": "2023-05-20T02:09:10.069152578Z"
    }
   }
  },
  {
   "cell_type": "markdown",
   "source": [
    "## Part 2: Introducing Eve!\n",
    "Okay, so now Alice and Bob have shared a string that matches precisely. They can use a process of privacy amplification (more on that later!) to create a secure key. Right now, our circuit does not have a concept of an _adversary_ (someone who would like to either change the message or learn the `alice_a` message). So let us focus next on that!\n",
    "\n",
    "Eavesdropping Eve has multiple ways of attacking. In case of BB84 protocol we assume that Eve _cannot_ impersonate either Alice or Bob when they are communicating over classical channel - when they are sending classical bits (as opposed to sending qubits). But what Eve can _try to do_ is to eavesdrop. But as opposed to classical scenario **copying arbitrary qubits without introducing noise** is impossible. This is called the [no-cloning theorem](https://en.wikipedia.org/wiki/No-cloning_theorem). Basically, the very laws of nature make it impossible to copy the state of the qubit _without_ measuring it. But, if you recall - when we apply `H`-gate we have 50-50 chance of observing either `1` or `0`. So thinking like a bad actor we come up with a following strategy:\n",
    " 1. We will intercept quantum message that goes from Alice to Bob.\n",
    " 2. We will create Eve's `eve_b` to measure received state (we know the idea of the protocol, so we leverage that as an attacker)\n",
    " 3. Eve then encodes the message again and send it to Bob\n",
    "Eve needs to send the quantum state to Bob, because otherwise Bob will not be able to execute Step 3 and thus both Alice and Bob will think that either they simply lost the message or somebody intercepted it.\n",
    "\n",
    "So now we will _recreate_ the circuit with Eve's actions."
   ],
   "metadata": {
    "collapsed": false
   }
  },
  {
   "cell_type": "code",
   "execution_count": 20,
   "id": "03c9bab8",
   "metadata": {
    "ExecuteTime": {
     "end_time": "2023-05-20T02:09:10.210924899Z",
     "start_time": "2023-05-20T02:09:10.069594729Z"
    }
   },
   "outputs": [
    {
     "name": "stdout",
     "output_type": "stream",
     "text": [
      "Bob: Hey Alice, I received and measured state you've sent me!\n"
     ]
    }
   ],
   "source": [
    "# Alice prepares quantum state\n",
    "alice_quantum_channel = cirq.Circuit()\n",
    "alice_qubits = cirq.NamedQubit.range(string_length, prefix=\"aq_\")\n",
    "for idx in range(string_length):\n",
    "    if alice_a[idx] == 1:\n",
    "        alice_quantum_channel.append(cirq.X(alice_qubits[idx]))\n",
    "    if alice_b[idx] == 1:\n",
    "        alice_quantum_channel.append(cirq.H(alice_qubits[idx]))\n",
    "\n",
    "# But instead of sending it to Bob directly, Eve intercepts, measures and send it further to Bob\n",
    "eve_b  = qrng.generate_binary_array(string_length)\n",
    "for idx in range(string_length):\n",
    "    if eve_b[idx] == 1:\n",
    "        alice_quantum_channel.append(cirq.H(alice_qubits[idx]))\n",
    "alice_quantum_channel.append(cirq.measure(alice_qubits, key=\"eve_measurement\"))\n",
    "eve_simulation_result = simulator.simulate(alice_quantum_channel)\n",
    "eve_guess_decode = eve_simulation_result.measurements[\"eve_measurement\"]\n",
    "\n",
    "# Now Eve will prepare new quantum state and send it to Bob.\n",
    "eve_quantum_channel = cirq.Circuit()\n",
    "eve_qubits = cirq.NamedQubit.range(string_length, prefix=\"eq_\")\n",
    "for idx in range(string_length):\n",
    "    if eve_guess_decode[idx] == 1:\n",
    "        eve_quantum_channel.append(cirq.X(eve_qubits[idx]))\n",
    "    if eve_b[idx] == 1:\n",
    "        eve_quantum_channel.append(cirq.H(eve_qubits[idx]))\n",
    "\n",
    "# Now Bob takes the measurements\n",
    "for idx in range(string_length):\n",
    "    if bob_b[idx] == 1:\n",
    "        eve_quantum_channel.append(cirq.H(eve_qubits[idx]))\n",
    "eve_quantum_channel.append(cirq.measure(eve_qubits, key=\"bob_measurement\"))\n",
    "bob_simulation_result = simulator.simulate(eve_quantum_channel)\n",
    "bob_guess_decode = bob_simulation_result.measurements[\"bob_measurement\"]\n",
    "print(\"Bob:\", \"Hey Alice, I received and measured state you've sent me!\")"
   ]
  },
  {
   "cell_type": "markdown",
   "source": [
    "Now that was a lot! So lets see what results we observed."
   ],
   "metadata": {
    "collapsed": false
   }
  },
  {
   "cell_type": "code",
   "execution_count": 21,
   "outputs": [
    {
     "name": "stdout",
     "output_type": "stream",
     "text": [
      "Alice b string: [0 1 1 1 0 1 1 0 1 0 0 0 0 0 0 1]\n",
      "Eve b string:   [1 0 1 1 0 1 0 1 0 1 1 1 1 0 0 0]\n",
      "Bob b string:   [1 0 0 0 0 1 1 0 0 1 0 1 0 1 0 1] \n",
      "\n",
      "Alice a string:     [1 1 0 0 1 1 0 1 0 1 0 1 0 1 1 0]\n",
      "Eve decoded string: [1 0 0 0 1 1 1 1 1 1 1 1 0 1 1 1]\n",
      "Bob decoded string: [1 0 1 1 1 1 1 1 1 1 0 1 0 0 1 0] \n",
      "\n"
     ]
    }
   ],
   "source": [
    "print(\"Alice b string:\", alice_b)\n",
    "print(\"Eve b string:  \", eve_b)\n",
    "print(\"Bob b string:  \", bob_b, \"\\n\")\n",
    "\n",
    "print(\"Alice a string:    \", alice_a)\n",
    "print(\"Eve decoded string:\", eve_guess_decode)\n",
    "print(\"Bob decoded string:\", bob_guess_decode, \"\\n\")\n"
   ],
   "metadata": {
    "collapsed": false,
    "ExecuteTime": {
     "end_time": "2023-05-20T02:09:10.335920493Z",
     "start_time": "2023-05-20T02:09:10.136552047Z"
    }
   }
  },
  {
   "cell_type": "markdown",
   "id": "ff7c7fa7",
   "metadata": {},
   "source": [
    "As we can see Eve created quite a mess! And learned _a lot_ about Alice's `alice_a` string. We will see how the protocol protects Alice and Bob from such interferences. Let us execute Step 4 again!"
   ]
  },
  {
   "cell_type": "code",
   "execution_count": 22,
   "outputs": [
    {
     "name": "stdout",
     "output_type": "stream",
     "text": [
      "Alice b string: [0 1 1 1 0 1 1 0 1 0 0 0 0 0 0 1]\n",
      "Bob b string:   [1 0 0 0 0 1 1 0 0 1 0 1 0 1 0 1] \n",
      "\n",
      "Alice a string:     [1 1 0 0 1 1 0 1 0 1 0 1 0 1 1 0]\n",
      "Bob decoded string: [1 0 1 1 1 1 1 1 1 1 0 1 0 0 1 0] \n",
      "\n",
      "Alice kept: [1 1 0 1 0 0 1 0]\n",
      "Bob kept:   [1 1 1 1 0 0 1 0]\n"
     ]
    }
   ],
   "source": [
    "b_matching_indices = alice_b == bob_b\n",
    "alice_kept_a = alice_a[b_matching_indices]\n",
    "bob_kept_a = bob_guess_decode[b_matching_indices]\n",
    "print(\"Alice b string:\", alice_b)\n",
    "print(\"Bob b string:  \", bob_b, \"\\n\")\n",
    "print(\"Alice a string:    \", alice_a)\n",
    "print(\"Bob decoded string:\", bob_guess_decode, \"\\n\")\n",
    "print(\"Alice kept:\", alice_kept_a)\n",
    "print(\"Bob kept:  \", bob_kept_a)"
   ],
   "metadata": {
    "collapsed": false,
    "ExecuteTime": {
     "end_time": "2023-05-20T02:09:10.398835135Z",
     "start_time": "2023-05-20T02:09:10.177537426Z"
    }
   }
  },
  {
   "cell_type": "markdown",
   "source": [
    "### Step 5 (updated)\n",
    "\n",
    "As you can clearly see _because_ of Eve's interference (_noise_) the `kept` strings already differ! Let's recall next step:\n",
    ">  5. Alice picks a random set of indices of `alice_kept_a` - `test_indices` and sends them to Bob. Alice and Bob use `test_indices` to create binary strings `alice_test_a` and `bob_test_a`. **If any of the bits miss-match they restart the procedure**\n",
    "\n",
    "Well, we might have restart the procedure quite many times. It turns out that our \"noise-free\" version does not handle noise really well. We will modify it slightly:\n",
    "Steps 1-4 will remain the same. Then the fifth steps will become:\n",
    " 5. Alice picks a random set of indices of `alice_kept_a` - `test_indices` and sends them to Bob. Alice and Bob use `test_indices` to create binary strings `alice_test_a` and `bob_test_a`. They agree on threshold `t`. If more than `t` bits missmatch than they restart protocol, otherwise they continue.\n",
    "\n",
    "To build test indices we will create a binary array and then simply find indices of `1`s."
   ],
   "metadata": {
    "collapsed": false
   }
  },
  {
   "cell_type": "code",
   "execution_count": 36,
   "outputs": [
    {
     "name": "stdout",
     "output_type": "stream",
     "text": [
      "Hey Bob, here are the test indices: [1 2 3 7]\n"
     ]
    }
   ],
   "source": [
    "test_indices = np.where(qrng.generate_binary_array(len(alice_kept_a)) == 1)[0]\n",
    "print(f\"Hey Bob, here are the test indices: {test_indices}\")\n",
    "alice_test_a = alice_kept_a[test_indices]\n",
    "bob_test_a = bob_kept_a[test_indices]\n"
   ],
   "metadata": {
    "collapsed": false,
    "ExecuteTime": {
     "end_time": "2023-05-20T02:17:31.994863233Z",
     "start_time": "2023-05-20T02:17:31.974150639Z"
    }
   }
  },
  {
   "cell_type": "code",
   "execution_count": 38,
   "outputs": [
    {
     "name": "stdout",
     "output_type": "stream",
     "text": [
      "Continue!\n"
     ]
    }
   ],
   "source": [
    "threshold = 1\n",
    "not_matching_elements = len(np.where(alice_test_a != bob_test_a))\n",
    "if not_matching_elements > threshold:\n",
    "    print(\"Restart the protocol\")\n",
    "else:\n",
    "    print(\"Continue!\")"
   ],
   "metadata": {
    "collapsed": false,
    "ExecuteTime": {
     "end_time": "2023-05-20T02:22:11.177855274Z",
     "start_time": "2023-05-20T02:22:11.118240397Z"
    }
   }
  },
  {
   "cell_type": "markdown",
   "source": [
    "### Step 6 (Updated)\n",
    "\n",
    "Originally, we were meant to perform privacy amplification. But due to Eve's interference Alice and Bob cannot be sure that even the remaining qubits measurements are the same. Do fix the potential errors we will use proces aptly named **Error correction**. That topic is _big_, _deep_ and _important_ in quantum computing, Here we will only provide high level overview and leverage relatively simple technique. You can ready on that in the [TU Delft's lecture notes](https://ocw.tudelft.nl/wp-content/uploads/LN_Week5.pdf).\n",
    "\n",
    "Error correction, when performed over authenticated (that is - you are _sure_ who is a sender and a receiver) classical channel is called **Information reconciliation**. We will explore one technique to do that called **Syndrome coding**.\n",
    "\n",
    "#### So what is information reconciliation?\n",
    "\n",
    "Information reconciliation ensures the sender and the receiver, Alice and Bob, hold the same string of information. This is necessary because as we saw we are dealing with noise during the communication. The process (on a high level) works like this: Alice and Bob exchange error-correcting information to correct any discrepancies in their strings. The goal is to make sure that after reconciliation, the strings held by Alice and Bob are mostly-correct.\n",
    "\n",
    "However, it's important to note that all classical communication between Alice and Bob is public, which means an eavesdropper (Eve) can also gain information from the error correction information they send across. Therefore, the process must be designed to minimize the information leakage to Eve.\n",
    "\n",
    "Fun, right?\n",
    "\n",
    "#### Syndrome coding\n",
    "\n"
   ],
   "metadata": {
    "collapsed": false
   }
  },
  {
   "cell_type": "code",
   "execution_count": null,
   "outputs": [],
   "source": [],
   "metadata": {
    "collapsed": false
   }
  }
 ],
 "metadata": {
  "kernelspec": {
   "display_name": "qg-cirq",
   "language": "python",
   "name": "qg-cirq"
  },
  "language_info": {
   "codemirror_mode": {
    "name": "ipython",
    "version": 3
   },
   "file_extension": ".py",
   "mimetype": "text/x-python",
   "name": "python",
   "nbconvert_exporter": "python",
   "pygments_lexer": "ipython3",
   "version": "3.10.11"
  }
 },
 "nbformat": 4,
 "nbformat_minor": 5
}
