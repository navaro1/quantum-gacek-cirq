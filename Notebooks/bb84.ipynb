{
 "cells": [
  {
   "cell_type": "markdown",
   "id": "f1faa430",
   "metadata": {},
   "source": [
    "# Implementing BB84 protocol with cirq\n",
    "\n",
    "This notebook is based on [lecture notes from TU Delft university](https://ocw.tudelft.nl/wp-content/uploads/LN_Week6.pdf)"
   ]
  },
  {
   "cell_type": "markdown",
   "id": "4ec84155",
   "metadata": {},
   "source": [
    "## What is Quantum Key Distribution?\n",
    "\n",
    "### First, private key cryptography\n",
    "\n",
    "Imagine you've written a secret note that you only want your best friend to read. To keep it secret, you decide to scramble the letters in a specific way, a way that only you and your friend understand. This method of scrambling is your _key_. Now, even if someone else gets the note, they won't understand what it says because it's all scrambled up. Your friend, who knows the key, can unscramble the note to read the original message. This is the basic idea behind the private key, or symmetric, cryptography.\n",
    "\n",
    "Private key cryptography is a type of encryption where the same key is used to both encrypt and decrypt the message. You use the key (a specific set of instructions) to convert your message into a secret code, and the same key is used to convert the secret code back into the original message. Because the same key is used for both processes, it's really important to keep the key secret. If someone else gets the key, they can decode all of your messages.\n",
    "\n",
    "The main challenge in private key cryptography is securely sharing the key with the person you want to communicate with. If you're not careful, someone else might intercept the key and decode your messages. This is known as the _key distribution problem_.\n",
    "\n",
    "### Quantum Key Distribution to the rescue!\n",
    "\n",
    "Quantum Key Distribution (QKD) offers a solution to this problem using the principles of quantum mechanics. In the quantum world, measuring a system can change its state. This is called the _observer effect._ If someone tries to intercept the key and measure these qubits, they will inevitably change their states. Your best friend will notice these changes when he receives the qubits, so they will know there was an eavesdropper. QKD solves the key distribution problem by enabling you and your friend to detect eavesdropping. If there's no eavesdropping, you can use the sequence of qubits that you've sent and your friend received to create a secret key. If there is eavesdropping, you discard the key and try again.\n",
    "\n",
    "BB84 is one of the protocols realizing the idea of QKD.\n",
    "\n",
    "## Our battle plan and idea\n",
    "\n",
    "Here we will not dive deep into the mathematics (physics) behind every aspect of the protocol. I will provide you with references if you want to dive deeper. **Within the scope of this notebook we are focused on building the BB84 protocol using cirq while allowing our solution not to be perfect because we are learning.**"
   ]
  },
  {
   "cell_type": "markdown",
   "id": "ee08f120",
   "metadata": {},
   "source": [
    "## Part 1: Noise-free BB84\n",
    "\n",
    "For the sake of the document, the sender will be called Alice and the receiver will be called Bob.\n",
    "\n",
    "To implement noise-free BB84 we will follow these steps:\n",
    " 1. Alice will generate two random binary (consisting only of `0`s and `1`s) strings - `alice_a`, and `alice_b` - of the same length.\n",
    " 2. Alice will use her strings to prepare a quantum state (sequence of qubits) that she will send to Bob.\n",
    " 3. Bob will generate a random binary string `bob_b` that he will use to try to _guess_ and decode Alice's message. Then Bob tells Alice that he received and measured the state he received.\n",
    " 4. Alice and Bob exchange their `_b` strings. They discard all bits that do not match (from Alice's original message and Bob's guess-decoded message). They are left with `alice_kept_a` and `bob_kept_a` strings, respectively.\n",
    " 5. Alice picks a random set of indices of `alice_kept_a` - `test_indices` and sends them to Bob. Alice and Bob use `test_indices` to create binary strings `alice_test_a` and `bob_test_a`. **If any of the bits miss-match they restart the procedure**\n",
    " 6. They now use remaining indices (without `test_indices`) - `final_indices` - and treat is as a seed for key creation via the process of privacy amplification (we will discuss it later, do not worry!)\n",
    " \n",
    "Let's get to it!"
   ]
  },
  {
   "cell_type": "markdown",
   "id": "e172e989",
   "metadata": {},
   "source": [
    "### Step 0\n",
    "\n",
    "Import cirq and let's declare cirq's simulator (it enables quantum simulation!)."
   ]
  },
  {
   "cell_type": "code",
   "execution_count": 5,
   "id": "f85f7812",
   "metadata": {
    "ExecuteTime": {
     "end_time": "2023-05-23T12:34:33.990641164Z",
     "start_time": "2023-05-23T12:34:33.935319694Z"
    }
   },
   "outputs": [],
   "source": [
    "import cirq\n",
    "import numpy as np\n",
    "\n",
    "simulator = cirq.Simulator()"
   ]
  },
  {
   "cell_type": "markdown",
   "id": "542902db",
   "metadata": {},
   "source": [
    "### Step 1\n",
    "Our first step is to generate two random binary strings (represented as arrays of `0` and `1`s) - `alice_a` and `alice_b`. In the [previous screencast](https://www.youtube.com/watch?v=kANpuN2Ax0A) we build a quantum random number generator. We will leverage this solution right now!\n",
    "\n",
    "We need to of course decide on the length of our initial strings. We will use a length that is a multiple of 4, so for `n` the length will be `4n`. On \"average\" in step 4 half of the bits would mismatch leaving us with `2n`. In step 6, the `final_indices` will again be half-length, leaving us with `n`."
   ]
  },
  {
   "cell_type": "code",
   "execution_count": 6,
   "id": "20ad5387",
   "metadata": {
    "ExecuteTime": {
     "end_time": "2023-05-23T12:34:34.028707158Z",
     "start_time": "2023-05-23T12:34:33.941787866Z"
    }
   },
   "outputs": [
    {
     "name": "stdout",
     "output_type": "stream",
     "text": [
      "[1 0 0 0 1 0 1 0 1 0 0 0 1 1 0 1]\n",
      "[1 1 0 1 1 0 1 0 1 0 0 1 0 0 0 1]\n"
     ]
    }
   ],
   "source": [
    "from quantum_lib.qrng import QuantumRandomNumberGenerator\n",
    "\n",
    "qrng = QuantumRandomNumberGenerator(simulator)\n",
    "\n",
    "n = 4\n",
    "string_length = 4 * n\n",
    "\n",
    "alice_a = qrng.generate_binary_array(string_length)\n",
    "alice_b = qrng.generate_binary_array(string_length)\n",
    "print(alice_a)\n",
    "print(alice_b)"
   ]
  },
  {
   "cell_type": "markdown",
   "source": [
    "### Step 2\n",
    "Now it is time to prepare a quantum state that Alice will send to Bob. In our simplified version we will use good old H-gate. The idea is simple if the `alice_b[i] == 1` we will apply H-gate to that particular qubit. For sciency folks - we are changing _the computational basis_.\n",
    "\n",
    "To do that we will first need to create an array of qubits of `string_length`. Recall that in cirq all qubits are in a \"0\" ($| 0 \\rangle$) state initially. In classical computing, we would use the _NOT_ gate. It's quantum analog is called _X-gate_. Summing up our tactics looks like this:\n",
    " 1. if `alice_a[idx] == 1` then apply `X` gate.\n",
    " 2. If `alice_b[idx] == 1` then apply `H` gate."
   ],
   "metadata": {
    "collapsed": false
   }
  },
  {
   "cell_type": "code",
   "execution_count": 7,
   "outputs": [
    {
     "name": "stdout",
     "output_type": "stream",
     "text": [
      "q_0: ────X───H───\n",
      "\n",
      "q_1: ────H───────\n",
      "\n",
      "q_3: ────H───────\n",
      "\n",
      "q_4: ────X───H───\n",
      "\n",
      "q_6: ────X───H───\n",
      "\n",
      "q_8: ────X───H───\n",
      "\n",
      "q_11: ───H───────\n",
      "\n",
      "q_12: ───X───────\n",
      "\n",
      "q_13: ───X───────\n",
      "\n",
      "q_15: ───X───H───\n"
     ]
    }
   ],
   "source": [
    "quantum_channel = cirq.Circuit()\n",
    "channel_qubits = cirq.NamedQubit.range(string_length, prefix=\"q_\")\n",
    "for idx in range(string_length):\n",
    "    if alice_a[idx] == 1:\n",
    "        quantum_channel.append(cirq.X(channel_qubits[idx]))\n",
    "    if alice_b[idx] == 1:\n",
    "        quantum_channel.append(cirq.H(channel_qubits[idx]))\n",
    "print(quantum_channel)"
   ],
   "metadata": {
    "collapsed": false,
    "ExecuteTime": {
     "end_time": "2023-05-23T12:34:34.029658794Z",
     "start_time": "2023-05-23T12:34:33.960562830Z"
    }
   }
  },
  {
   "cell_type": "markdown",
   "source": [
    "We can see that the qubits that did not need either the `X` or `H` gate are not showing up. Do not worry they _will_ show up when we will measure the state! We called the variable `quantum_channel` to underscore the fact that on one side we have Alice preparing the qubits (that is - state) and on the other hand, we will have Bob reading the state (that is - the qubits)."
   ],
   "metadata": {
    "collapsed": false
   }
  },
  {
   "cell_type": "markdown",
   "source": [
    "### Step 3\n",
    "In this step, Bob will try to \"guess-decode\" the `alice_a` string. How? He will generate his own `bob_b` string and whenever `bob_b[idx] == 1` he will \"revert\" the `H` gate. How? `H` gate has this awesome property that if you apply it twice you get your original state!\n",
    "\n",
    "But what happens if `alice_b[idx] != bob_b[idx]`? That means that we have applied the `H` gate exactly once. And if you recall from our [previous screencast](https://www.youtube.com/watch?v=kANpuN2Ax0A) qubit in that state will give exactly random `0`, `1` measurements - so we will randomly measure `0` and `1`."
   ],
   "metadata": {
    "collapsed": false
   }
  },
  {
   "cell_type": "code",
   "execution_count": 8,
   "outputs": [],
   "source": [
    "bob_b = qrng.generate_binary_array(string_length)\n",
    "for idx in range(string_length):\n",
    "    if bob_b[idx] == 1:\n",
    "        quantum_channel.append(cirq.H(channel_qubits[idx]))\n",
    "quantum_channel.append(cirq.measure(channel_qubits, key=\"bob_measurement\"))"
   ],
   "metadata": {
    "collapsed": false,
    "ExecuteTime": {
     "end_time": "2023-05-23T12:34:34.029776976Z",
     "start_time": "2023-05-23T12:34:33.977581443Z"
    }
   }
  },
  {
   "cell_type": "code",
   "execution_count": 9,
   "outputs": [
    {
     "name": "stdout",
     "output_type": "stream",
     "text": [
      "q_0: ────X───H───────M('bob_measurement')───\n",
      "                     │\n",
      "q_1: ────H───H───────M──────────────────────\n",
      "                     │\n",
      "q_2: ────H───────────M──────────────────────\n",
      "                     │\n",
      "q_3: ────H───H───────M──────────────────────\n",
      "                     │\n",
      "q_4: ────X───H───H───M──────────────────────\n",
      "                     │\n",
      "q_5: ────────────────M──────────────────────\n",
      "                     │\n",
      "q_6: ────X───H───H───M──────────────────────\n",
      "                     │\n",
      "q_7: ────H───────────M──────────────────────\n",
      "                     │\n",
      "q_8: ────X───H───────M──────────────────────\n",
      "                     │\n",
      "q_9: ────────────────M──────────────────────\n",
      "                     │\n",
      "q_10: ───H───────────M──────────────────────\n",
      "                     │\n",
      "q_11: ───H───H───────M──────────────────────\n",
      "                     │\n",
      "q_12: ───X───H───────M──────────────────────\n",
      "                     │\n",
      "q_13: ───X───H───────M──────────────────────\n",
      "                     │\n",
      "q_14: ───H───────────M──────────────────────\n",
      "                     │\n",
      "q_15: ───X───H───H───M──────────────────────\n"
     ]
    }
   ],
   "source": [
    "print(quantum_channel)"
   ],
   "metadata": {
    "collapsed": false,
    "ExecuteTime": {
     "end_time": "2023-05-23T12:34:34.030569089Z",
     "start_time": "2023-05-23T12:34:33.977776919Z"
    }
   }
  },
  {
   "cell_type": "code",
   "execution_count": 10,
   "id": "e8c667a2",
   "metadata": {
    "ExecuteTime": {
     "end_time": "2023-05-23T12:34:34.030811212Z",
     "start_time": "2023-05-23T12:34:33.989610819Z"
    }
   },
   "outputs": [
    {
     "name": "stdout",
     "output_type": "stream",
     "text": [
      "Bob: Hey Alice, I received and measured state you've sent me!\n",
      "[0 0 1 0 1 0 1 0 0 0 1 0 1 0 0 1]\n"
     ]
    }
   ],
   "source": [
    "simulation_result = simulator.simulate(quantum_channel)\n",
    "bob_guess_decode = simulation_result.measurements[\"bob_measurement\"]\n",
    "print(\"Bob:\", \"Hey Alice, I received and measured state you've sent me!\")\n",
    "print(bob_guess_decode)"
   ]
  },
  {
   "cell_type": "markdown",
   "source": [
    "### Step 4\n",
    "Okay, so now Alice and Bob can exchange their `_b` strings (Bob remains unaware of Alice's `alice_a` string. Alice remains unaware of Bob's `bob_guess_decode` string). They will then compare the `_b` strings and each of them will create a substring from `alice_a`/`bob_guess_decode` using only indices that match.\n",
    "\n",
    "The interesting part is that if `_b` indices match, the corresponding `alice_a`/`bob_guess_decode` elements should also match because we used an appropriate number of `H` gates for that particular circuit.\n",
    "\n",
    "Let's print all the strings to see what exactly happens"
   ],
   "metadata": {
    "collapsed": false
   }
  },
  {
   "cell_type": "code",
   "execution_count": 11,
   "outputs": [
    {
     "name": "stdout",
     "output_type": "stream",
     "text": [
      "Alice b string: [1 1 0 1 1 0 1 0 1 0 0 1 0 0 0 1]\n",
      "Bob b string:   [0 1 1 1 1 0 1 1 0 0 1 1 1 1 1 1] \n",
      "\n",
      "Alice a string:     [1 0 0 0 1 0 1 0 1 0 0 0 1 1 0 1]\n",
      "Bob decoded string: [0 0 1 0 1 0 1 0 0 0 1 0 1 0 0 1] \n",
      "\n",
      "Alice kept: [0 0 1 0 1 0 0 1]\n",
      "Bob kept:   [0 0 1 0 1 0 0 1]\n"
     ]
    }
   ],
   "source": [
    "b_matching_indices = alice_b == bob_b\n",
    "alice_kept_a = alice_a[b_matching_indices]\n",
    "bob_kept_a = bob_guess_decode[b_matching_indices]\n",
    "print(\"Alice b string:\", alice_b)\n",
    "print(\"Bob b string:  \", bob_b, \"\\n\")\n",
    "print(\"Alice a string:    \", alice_a)\n",
    "print(\"Bob decoded string:\", bob_guess_decode, \"\\n\")\n",
    "print(\"Alice kept:\", alice_kept_a)\n",
    "print(\"Bob kept:  \", bob_kept_a)"
   ],
   "metadata": {
    "collapsed": false,
    "ExecuteTime": {
     "end_time": "2023-05-23T12:34:34.047894705Z",
     "start_time": "2023-05-23T12:34:33.989940971Z"
    }
   }
  },
  {
   "cell_type": "markdown",
   "source": [
    "## Part 2: Introducing Eve!\n",
    "Okay, so now Alice and Bob have shared a string that matches precisely. They can use a process of privacy amplification (more on that later!) to create a secure key. Right now, our circuit does not have a concept of an _adversary_ (someone who would like to either change the message or learn the `alice_a` message). So let us focus next on that!\n",
    "\n",
    "Eavesdropping Eve has multiple ways of attacking. In case of BB84 protocol we assume that Eve _cannot_ impersonate either Alice or Bob when they are communicating over classical channel - when they are sending classical bits (as opposed to sending qubits). But what Eve can _try to do_ is to eavesdrop. But as opposed to classical scenario **copying arbitrary qubits without introducing noise** is impossible. This is called the [no-cloning theorem](https://en.wikipedia.org/wiki/No-cloning_theorem). Basically, the very laws of nature make it impossible to copy the state of the qubit _without_ measuring it. But, if you recall - when we apply `H`-gate we have 50-50 chance of observing either `1` or `0`. So thinking like a bad actor we come up with a following strategy:\n",
    " 1. We will intercept quantum message that goes from Alice to Bob.\n",
    " 2. We will create Eve's `eve_b` to measure received state (we know the idea of the protocol, so we leverage that as an attacker)\n",
    " 3. Eve then encodes the message again and send it to Bob\n",
    "Eve needs to send the quantum state to Bob, because otherwise Bob will not be able to execute Step 3 and thus both Alice and Bob will think that either they simply lost the message or somebody intercepted it.\n",
    "\n",
    "So now we will _recreate_ the circuit with Eve's actions."
   ],
   "metadata": {
    "collapsed": false
   }
  },
  {
   "cell_type": "code",
   "execution_count": 12,
   "id": "03c9bab8",
   "metadata": {
    "ExecuteTime": {
     "end_time": "2023-05-23T12:34:34.048186847Z",
     "start_time": "2023-05-23T12:34:34.034151197Z"
    }
   },
   "outputs": [
    {
     "name": "stdout",
     "output_type": "stream",
     "text": [
      "Bob: Hey Alice, I received and measured state you've sent me!\n"
     ]
    }
   ],
   "source": [
    "# Alice prepares quantum state\n",
    "alice_quantum_channel = cirq.Circuit()\n",
    "alice_qubits = cirq.NamedQubit.range(string_length, prefix=\"aq_\")\n",
    "for idx in range(string_length):\n",
    "    if alice_a[idx] == 1:\n",
    "        alice_quantum_channel.append(cirq.X(alice_qubits[idx]))\n",
    "    if alice_b[idx] == 1:\n",
    "        alice_quantum_channel.append(cirq.H(alice_qubits[idx]))\n",
    "\n",
    "# But instead of sending it to Bob directly, Eve intercepts, measures and send it further to Bob\n",
    "eve_b  = qrng.generate_binary_array(string_length)\n",
    "for idx in range(string_length):\n",
    "    if eve_b[idx] == 1:\n",
    "        alice_quantum_channel.append(cirq.H(alice_qubits[idx]))\n",
    "alice_quantum_channel.append(cirq.measure(alice_qubits, key=\"eve_measurement\"))\n",
    "eve_simulation_result = simulator.simulate(alice_quantum_channel)\n",
    "eve_guess_decode = eve_simulation_result.measurements[\"eve_measurement\"]\n",
    "\n",
    "# Now Eve will prepare new quantum state and send it to Bob.\n",
    "eve_quantum_channel = cirq.Circuit()\n",
    "eve_qubits = cirq.NamedQubit.range(string_length, prefix=\"eq_\")\n",
    "for idx in range(string_length):\n",
    "    if eve_guess_decode[idx] == 1:\n",
    "        eve_quantum_channel.append(cirq.X(eve_qubits[idx]))\n",
    "    if eve_b[idx] == 1:\n",
    "        eve_quantum_channel.append(cirq.H(eve_qubits[idx]))\n",
    "\n",
    "# Now Bob takes the measurements\n",
    "for idx in range(string_length):\n",
    "    if bob_b[idx] == 1:\n",
    "        eve_quantum_channel.append(cirq.H(eve_qubits[idx]))\n",
    "eve_quantum_channel.append(cirq.measure(eve_qubits, key=\"bob_measurement\"))\n",
    "bob_simulation_result = simulator.simulate(eve_quantum_channel)\n",
    "bob_guess_decode = bob_simulation_result.measurements[\"bob_measurement\"]\n",
    "print(\"Bob:\", \"Hey Alice, I received and measured state you've sent me!\")"
   ]
  },
  {
   "cell_type": "markdown",
   "source": [
    "Now that was a lot! So lets see what results we observed."
   ],
   "metadata": {
    "collapsed": false
   }
  },
  {
   "cell_type": "code",
   "execution_count": 13,
   "outputs": [
    {
     "name": "stdout",
     "output_type": "stream",
     "text": [
      "Alice b string: [1 1 0 1 1 0 1 0 1 0 0 1 0 0 0 1]\n",
      "Eve b string:   [1 0 0 1 1 0 1 1 0 0 1 0 1 0 0 1]\n",
      "Bob b string:   [0 1 1 1 1 0 1 1 0 0 1 1 1 1 1 1] \n",
      "\n",
      "Alice a string:     [1 0 0 0 1 0 1 0 1 0 0 0 1 1 0 1]\n",
      "Eve decoded string: [1 0 0 0 1 0 1 0 1 0 1 1 0 1 0 1]\n",
      "Bob decoded string: [0 1 1 0 1 0 1 0 1 0 1 0 0 1 1 1] \n",
      "\n"
     ]
    }
   ],
   "source": [
    "print(\"Alice b string:\", alice_b)\n",
    "print(\"Eve b string:  \", eve_b)\n",
    "print(\"Bob b string:  \", bob_b, \"\\n\")\n",
    "\n",
    "print(\"Alice a string:    \", alice_a)\n",
    "print(\"Eve decoded string:\", eve_guess_decode)\n",
    "print(\"Bob decoded string:\", bob_guess_decode, \"\\n\")\n"
   ],
   "metadata": {
    "collapsed": false,
    "ExecuteTime": {
     "end_time": "2023-05-23T12:34:34.048330434Z",
     "start_time": "2023-05-23T12:34:34.034386163Z"
    }
   }
  },
  {
   "cell_type": "markdown",
   "id": "ff7c7fa7",
   "metadata": {},
   "source": [
    "As we can see Eve created quite a mess! And learned _a lot_ about Alice's `alice_a` string. We will see how the protocol protects Alice and Bob from such interferences. Let us execute Step 4 again!"
   ]
  },
  {
   "cell_type": "code",
   "execution_count": 14,
   "outputs": [
    {
     "name": "stdout",
     "output_type": "stream",
     "text": [
      "Alice b string: [1 1 0 1 1 0 1 0 1 0 0 1 0 0 0 1]\n",
      "Bob b string:   [0 1 1 1 1 0 1 1 0 0 1 1 1 1 1 1] \n",
      "\n",
      "Alice a string:     [1 0 0 0 1 0 1 0 1 0 0 0 1 1 0 1]\n",
      "Bob decoded string: [0 1 1 0 1 0 1 0 1 0 1 0 0 1 1 1] \n",
      "\n",
      "Alice kept: [0 0 1 0 1 0 0 1]\n",
      "Bob kept:   [1 0 1 0 1 0 0 1]\n"
     ]
    }
   ],
   "source": [
    "b_matching_indices = alice_b == bob_b\n",
    "alice_kept_a = alice_a[b_matching_indices]\n",
    "bob_kept_a = bob_guess_decode[b_matching_indices]\n",
    "print(\"Alice b string:\", alice_b)\n",
    "print(\"Bob b string:  \", bob_b, \"\\n\")\n",
    "print(\"Alice a string:    \", alice_a)\n",
    "print(\"Bob decoded string:\", bob_guess_decode, \"\\n\")\n",
    "print(\"Alice kept:\", alice_kept_a)\n",
    "print(\"Bob kept:  \", bob_kept_a)"
   ],
   "metadata": {
    "collapsed": false,
    "ExecuteTime": {
     "end_time": "2023-05-23T12:34:34.048448227Z",
     "start_time": "2023-05-23T12:34:34.034557477Z"
    }
   }
  },
  {
   "cell_type": "markdown",
   "source": [
    "### Step 5 (updated)\n",
    "\n",
    "As you can clearly see _because_ of Eve's interference (_noise_) the `kept` strings already differ! Let's recall next step:\n",
    ">  5. Alice picks a random set of indices of `alice_kept_a` - `test_indices` and sends them to Bob. Alice and Bob use `test_indices` to create binary strings `alice_test_a` and `bob_test_a`. **If any of the bits miss-match they restart the procedure**\n",
    "\n",
    "Well, we might have restart the procedure quite many times. It turns out that our \"noise-free\" version does not handle noise really well. We will modify it slightly:\n",
    "Steps 1-4 will remain the same. Then the fifth steps will become:\n",
    " 5. Alice picks a random set of indices of `alice_kept_a` - `test_indices` and sends them to Bob. Alice and Bob use `test_indices` to create binary strings `alice_test_a` and `bob_test_a`. They agree on threshold `t`. If more than `t` bits missmatch than they restart protocol, otherwise they continue.\n",
    "\n",
    "To build test indices we will create a binary array and then simply find indices of `1`s."
   ],
   "metadata": {
    "collapsed": false
   }
  },
  {
   "cell_type": "code",
   "execution_count": 20,
   "outputs": [
    {
     "name": "stdout",
     "output_type": "stream",
     "text": [
      "Hey Bob, here are the test indices: [2 3 4 7]\n"
     ]
    }
   ],
   "source": [
    "test_indices = []\n",
    "while len(test_indices) != 4:\n",
    "    test_indices_source = qrng.generate_binary_array(len(alice_kept_a))\n",
    "    test_indices = np.where(test_indices_source == 1)[0]\n",
    "print(f\"Hey Bob, here are the test indices: {test_indices}\")\n",
    "alice_test_a = alice_kept_a[test_indices]\n",
    "bob_test_a = bob_kept_a[test_indices]\n"
   ],
   "metadata": {
    "collapsed": false,
    "ExecuteTime": {
     "end_time": "2023-05-23T12:35:17.931313839Z",
     "start_time": "2023-05-23T12:35:17.926957709Z"
    }
   }
  },
  {
   "cell_type": "code",
   "execution_count": 21,
   "outputs": [
    {
     "name": "stdout",
     "output_type": "stream",
     "text": [
      "Continue!\n"
     ]
    }
   ],
   "source": [
    "threshold = 1\n",
    "not_matching_elements = len(np.where(alice_test_a != bob_test_a))\n",
    "if not_matching_elements > threshold:\n",
    "    print(\"Restart the protocol\")\n",
    "else:\n",
    "    print(\"Continue!\")"
   ],
   "metadata": {
    "collapsed": false,
    "ExecuteTime": {
     "end_time": "2023-05-23T12:35:21.062373033Z",
     "start_time": "2023-05-23T12:35:21.021385029Z"
    }
   }
  },
  {
   "cell_type": "markdown",
   "source": [
    "### Step 6 (Updated)\n",
    "\n",
    "Originally, we were meant to perform privacy amplification. But due to Eve's interference Alice and Bob cannot be sure that even the remaining qubits measurements are the same. Do fix the potential errors we will use proces aptly named **Error correction**. That topic is _big_, _deep_ and _important_ in quantum computing, Here we will only provide high level overview and leverage relatively simple technique. You can ready on that in the [TU Delft's lecture notes](https://ocw.tudelft.nl/wp-content/uploads/LN_Week5.pdf).\n",
    "\n",
    "Error correction, when performed over authenticated (that is - you are _sure_ who is a sender and a receiver) classical channel is called **Information reconciliation**. We will explore one technique to do that called **Syndrome coding**.\n",
    "\n",
    "#### So what is information reconciliation?\n",
    "\n",
    "Information reconciliation ensures the sender and the receiver,THank yo Alice and Bob, hold the same string of information. This is necessary because as we saw we are dealing with noise during the communication. The process (on a high level) works like this: Alice and Bob exchange error-correcting information to correct any discrepancies in their strings. The goal is to make sure that after reconciliation, the strings held by Alice and Bob are mostly-correct.\n",
    "\n",
    "However, it's important to note that all classical communication between Alice and Bob is public, which means an eavesdropper (Eve) can also gain information from the error correction information they send across. Therefore, the process must be designed to minimize the information leakage to Eve.\n",
    "\n",
    "Fun, right?\n",
    "\n",
    "#### Syndrome coding using linear codes\n",
    "\n",
    "In syndrome coding, the idea is to add extra bits to the original data being transmitted. These extra bits do not carry additional information per se, but they are there to help detect and correct errors that may occur during data transmission. Linear codes are one of the concrete implementations of syndrome coding.\n",
    "\n",
    "First let's keep in mind what we are trying to do - **We want to detect and correct errors that might occur when information is transmitted across a noisy channel**.\n",
    "\n",
    "Please note that At this moment we can actually make some assumptions about how many mismatching bits we need to detect and correct. In this tutorial we are not particularly rigorous (but the important point is that we can be rigorous and have strong guarantees). We will assume that _at most one bit_ can be off.\n",
    "\n",
    "So what makes code linear? Let's say you have a list of binary strings that you want use as a codes. They will be called linear if when you take any two codes and add them together (modulo 2 or XOR) resulting code will also be in the original list. For math-savvy folks - the codes need to form a linear space. This property will be leveraged in a moment.\n",
    "\n",
    "One of the most popular linear codes is called [Hamming(7, 4)](https://en.wikipedia.org/wiki/Hamming(7,4)). We will use it as example, but note that Alice could use _any linear code_ (which can be represented as a pair of matrices, but we will not deal with it right now). She could different linear codes every time!\n",
    "\n",
    "First, we will describe procedure on a high level, then we will actually fill in missing details.\n",
    "\n",
    "1. We used `test_indices` to obtain test strings. We will use remaining indices for further processing. The strings obtained from using those indices will be called `alice_final_a`, `bob_final_a`.\n",
    "2. Alice will encode the message to obtain `encoded_final_a`. Alice will then send this message to Bob.\n",
    "3. We know that `bob_final_a` is basically a sum of `alice_final_a` and some noise - which could be represented as binary vector of the same length and `alice_final_a`. Because we are using linear codes the following property holds `encode(a + b) == encode(a) + encode(b)` (I told you that this is important property!). So Bob has message `bob_final_a == alice_final_a + noise`, using the linear property of linear code we have `encode(bob_final_a) == encode(alice_final_a + noise) == encode(alice_final_a) + encode(noise)`. If alice now will send him `encoded_final_a == encode(alice_final_a)`, then bob can subtract it from his encoded string to obtain encoded noise. Then he can `decode` his noise and subtract it his `decoded_noise` from `bob_final_a` to obtain `alice_final_a`.\n",
    "\n",
    "Now that is a lot! So let's go step by step.\n",
    "\n",
    "##### Step 6.1\n",
    "That part is relatively simple - we will leverage `test_indices_source` defined before to create `final` strings."
   ],
   "metadata": {
    "collapsed": false
   }
  },
  {
   "cell_type": "code",
   "execution_count": 25,
   "outputs": [
    {
     "name": "stdout",
     "output_type": "stream",
     "text": [
      "[0 0 0 0]\n",
      "[1 0 0 0]\n"
     ]
    }
   ],
   "source": [
    "final_indices = np.where(test_indices_source == 0)[0]\n",
    "alice_final_a = alice_kept_a[final_indices]\n",
    "bob_final_a = bob_kept_a[final_indices]\n",
    "print(alice_final_a)\n",
    "print(bob_final_a)"
   ],
   "metadata": {
    "collapsed": false,
    "ExecuteTime": {
     "end_time": "2023-05-23T12:36:15.986124971Z",
     "start_time": "2023-05-23T12:36:15.980472466Z"
    }
   }
  },
  {
   "cell_type": "markdown",
   "source": [
    "##### Step 6.2\n",
    "\n",
    "Now it's time for encoding using Hamming(7, 4) code. Take a deep breath and let's take a dive. We will be encoding 4 bit messages into 7 bits words. So we have 4 data bits and remaining 3 parity bits (think of them as used for checking). Encoded message will look as follows:\n",
    "`[p_1 p_2 d_1 p_3 d_2 d_3 d_4]`, where `p_i` is i-th parity bit and `d_i` is i-th data bit. Of course that is all fine and cool, but the question is how and why we calculate `p_1`, `p_2` and `p_3`.\n",
    "\n",
    "First what is (even) _parity bit_? It is added bit that will if we append this particular bit to a bit string it will ensure that there is even number of `1`s in the string, so parity bit for `[1, 0, 1, 0]` would be `0` and for `[1, 0, 1, 1]` would be `1`. We can calculate it using XOR.\n",
    "\n",
    "- `p_1` is parity bit for string `[d_1, d_2, d_4]`\n",
    "- `p_2` is parity bit for string `[d_1, d_3, d_4]`\n",
    "- `p_3` is parity bit for string `[d_2, d_3, d_4]`\n",
    "\n",
    "Why that particular combinations? This scheme ensures that every bit position is checked by a unique set of parity bits. Consequently, any single-bit error can be uniquely identified and corrected based on which combination of parity bits is incorrect.\n",
    "\n",
    "| Erring data bit | Affected Parity Bits |\n",
    "|-----------------|----------------------|\n",
    "| `d_1`           | `p_1`, `p_2`         |\n",
    "| `d_2`           | `p_1`, `p_3`         |\n",
    "| `d_3`           | `p_2`, `p_4`         |\n",
    "| `d_4`           | `p_1`, `p_2`, `p_3`  |\n",
    "\n",
    "(Side note: Hamming(7, 4) can also detect errors in the one of the parity bits, but that's for another day!)\n",
    "\n",
    "But equipped with that table Bob will be able to precisely determine which single bit is off in his message! But first, let's create method that encodes the 4-bit message."
   ],
   "metadata": {
    "collapsed": false
   }
  },
  {
   "cell_type": "code",
   "execution_count": 18,
   "outputs": [],
   "source": [
    "def encode(message: np.ndarray) -> np.ndarray:\n",
    "    assert len(message) == 4\n",
    "\n",
    "    encoded = [0, 0, 0, 0, 0, 0, 0]\n",
    "\n",
    "    # Assign data bits\n",
    "    encoded[2] = message[0]\n",
    "    encoded[4] = message[1]\n",
    "    encoded[5] = message[2]\n",
    "    encoded[6] = message[3]\n",
    "\n",
    "    # Calculate parity bits\n",
    "    encoded[0] = encoded[2] ^ encoded[4] ^ encoded[6]  # P1\n",
    "    encoded[1] = encoded[2] ^ encoded[5] ^ encoded[6]  # P2\n",
    "    encoded[3] = encoded[4] ^ encoded[5] ^ encoded[6]  # P3\n",
    "    return np.array(encoded)"
   ],
   "metadata": {
    "collapsed": false,
    "ExecuteTime": {
     "end_time": "2023-05-23T12:34:34.049120424Z",
     "start_time": "2023-05-23T12:34:34.035320388Z"
    }
   }
  },
  {
   "cell_type": "code",
   "execution_count": 38,
   "outputs": [
    {
     "name": "stdout",
     "output_type": "stream",
     "text": [
      "Hey Bob, here's my encoded message: [0 0 0 0 0 0 0] I used Hamming(7, 4)!\n"
     ]
    }
   ],
   "source": [
    "encoded_final_a = encode(alice_final_a)\n",
    "print(\"Hey Bob, here's my encoded message:\", encoded_final_a, \"I used Hamming(7, 4)!\")"
   ],
   "metadata": {
    "collapsed": false,
    "ExecuteTime": {
     "end_time": "2023-05-23T13:10:17.214237710Z",
     "start_time": "2023-05-23T13:10:17.210447715Z"
    }
   }
  },
  {
   "cell_type": "markdown",
   "source": [
    "##### Step 6.3\n",
    "\n",
    "Okay, now Bob can leverage linearity of Hamming(7, 4) to easily check his message."
   ],
   "metadata": {
    "collapsed": false
   }
  },
  {
   "cell_type": "code",
   "execution_count": 40,
   "outputs": [
    {
     "name": "stdout",
     "output_type": "stream",
     "text": [
      "[0 0 0 0]\n",
      "[0 0 0 0]\n"
     ]
    }
   ],
   "source": [
    "bob_encoded_a = encode(bob_final_a)\n",
    "encoded_noise = (bob_encoded_a + encoded_final_a) % 2\n",
    "decoded_noise =  [encoded_noise[2], encoded_noise[4], encoded_noise[5], encoded_noise[6]] # That very simplified, just to show property of linear codes.\n",
    "bob_clean_a = (bob_final_a + decoded_noise) % 2\n",
    "print(alice_final_a)\n",
    "print(bob_clean_a)"
   ],
   "metadata": {
    "collapsed": false,
    "ExecuteTime": {
     "end_time": "2023-05-23T13:12:03.761837797Z",
     "start_time": "2023-05-23T13:12:03.759125211Z"
    }
   }
  },
  {
   "cell_type": "markdown",
   "source": [
    "### Step 7\n",
    "\n",
    "And it's time for the Privacy Amplification. It's a very fancy name for hashing with guarantees. A quick reminder of what is hashing -"
   ],
   "metadata": {
    "collapsed": false
   }
  }
 ],
 "metadata": {
  "kernelspec": {
   "display_name": "qg-cirq",
   "language": "python",
   "name": "qg-cirq"
  },
  "language_info": {
   "codemirror_mode": {
    "name": "ipython",
    "version": 3
   },
   "file_extension": ".py",
   "mimetype": "text/x-python",
   "name": "python",
   "nbconvert_exporter": "python",
   "pygments_lexer": "ipython3",
   "version": "3.10.11"
  }
 },
 "nbformat": 4,
 "nbformat_minor": 5
}
